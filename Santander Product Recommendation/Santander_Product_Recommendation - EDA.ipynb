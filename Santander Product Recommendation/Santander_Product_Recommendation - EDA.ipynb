{
 "cells": [
  {
   "cell_type": "markdown",
   "metadata": {},
   "source": [
    "# Santander Product Recommendation<br>\n",
    "https://www.kaggle.com/c/santander-product-recommendation"
   ]
  },
  {
   "cell_type": "markdown",
   "metadata": {},
   "source": [
    "## 탐색적 데이터 분석 및 결측값 정제"
   ]
  },
  {
   "cell_type": "code",
   "execution_count": 1,
   "metadata": {},
   "outputs": [],
   "source": [
    "import pandas as pd\n",
    "import numpy as np\n",
    "import seaborn as sns\n",
    "import matplotlib.pyplot as plt"
   ]
  },
  {
   "cell_type": "code",
   "execution_count": 2,
   "metadata": {
    "scrolled": false
   },
   "outputs": [
    {
     "name": "stderr",
     "output_type": "stream",
     "text": [
      "C:\\Users\\USER\\anaconda3\\lib\\site-packages\\IPython\\core\\interactiveshell.py:3146: DtypeWarning: Columns (5,8,11,15) have mixed types. Specify dtype option on import or set low_memory=False.\n",
      "  has_raised = await self.run_ast_nodes(code_ast.body, cell_name,\n",
      "C:\\Users\\USER\\anaconda3\\lib\\site-packages\\IPython\\core\\interactiveshell.py:3146: DtypeWarning: Columns (15) have mixed types. Specify dtype option on import or set low_memory=False.\n",
      "  has_raised = await self.run_ast_nodes(code_ast.body, cell_name,\n"
     ]
    }
   ],
   "source": [
    "train = pd.read_csv('../data/santander/train_ver2.csv')\n",
    "test = pd.read_csv('../data/santander/test_ver2.csv')"
   ]
  },
  {
   "cell_type": "code",
   "execution_count": 3,
   "metadata": {},
   "outputs": [
    {
     "data": {
      "text/plain": [
       "(13647309, 48)"
      ]
     },
     "execution_count": 3,
     "metadata": {},
     "output_type": "execute_result"
    }
   ],
   "source": [
    "train.shape"
   ]
  },
  {
   "cell_type": "code",
   "execution_count": 4,
   "metadata": {
    "scrolled": true
   },
   "outputs": [
    {
     "data": {
      "text/plain": [
       "Index(['fecha_dato', 'ncodpers', 'ind_empleado', 'pais_residencia', 'sexo',\n",
       "       'age', 'fecha_alta', 'ind_nuevo', 'antiguedad', 'indrel',\n",
       "       'ult_fec_cli_1t', 'indrel_1mes', 'tiprel_1mes', 'indresi', 'indext',\n",
       "       'conyuemp', 'canal_entrada', 'indfall', 'tipodom', 'cod_prov',\n",
       "       'nomprov', 'ind_actividad_cliente', 'renta', 'segmento',\n",
       "       'ind_ahor_fin_ult1', 'ind_aval_fin_ult1', 'ind_cco_fin_ult1',\n",
       "       'ind_cder_fin_ult1', 'ind_cno_fin_ult1', 'ind_ctju_fin_ult1',\n",
       "       'ind_ctma_fin_ult1', 'ind_ctop_fin_ult1', 'ind_ctpp_fin_ult1',\n",
       "       'ind_deco_fin_ult1', 'ind_deme_fin_ult1', 'ind_dela_fin_ult1',\n",
       "       'ind_ecue_fin_ult1', 'ind_fond_fin_ult1', 'ind_hip_fin_ult1',\n",
       "       'ind_plan_fin_ult1', 'ind_pres_fin_ult1', 'ind_reca_fin_ult1',\n",
       "       'ind_tjcr_fin_ult1', 'ind_valo_fin_ult1', 'ind_viv_fin_ult1',\n",
       "       'ind_nomina_ult1', 'ind_nom_pens_ult1', 'ind_recibo_ult1'],\n",
       "      dtype='object')"
      ]
     },
     "execution_count": 4,
     "metadata": {},
     "output_type": "execute_result"
    }
   ],
   "source": [
    "train.columns"
   ]
  },
  {
   "cell_type": "code",
   "execution_count": 5,
   "metadata": {},
   "outputs": [
    {
     "data": {
      "text/html": [
       "<div>\n",
       "<style scoped>\n",
       "    .dataframe tbody tr th:only-of-type {\n",
       "        vertical-align: middle;\n",
       "    }\n",
       "\n",
       "    .dataframe tbody tr th {\n",
       "        vertical-align: top;\n",
       "    }\n",
       "\n",
       "    .dataframe thead th {\n",
       "        text-align: right;\n",
       "    }\n",
       "</style>\n",
       "<table border=\"1\" class=\"dataframe\">\n",
       "  <thead>\n",
       "    <tr style=\"text-align: right;\">\n",
       "      <th></th>\n",
       "      <th>fecha_dato</th>\n",
       "      <th>ncodpers</th>\n",
       "      <th>ind_empleado</th>\n",
       "      <th>pais_residencia</th>\n",
       "      <th>sexo</th>\n",
       "      <th>age</th>\n",
       "      <th>fecha_alta</th>\n",
       "      <th>ind_nuevo</th>\n",
       "      <th>antiguedad</th>\n",
       "      <th>indrel</th>\n",
       "      <th>...</th>\n",
       "      <th>ind_hip_fin_ult1</th>\n",
       "      <th>ind_plan_fin_ult1</th>\n",
       "      <th>ind_pres_fin_ult1</th>\n",
       "      <th>ind_reca_fin_ult1</th>\n",
       "      <th>ind_tjcr_fin_ult1</th>\n",
       "      <th>ind_valo_fin_ult1</th>\n",
       "      <th>ind_viv_fin_ult1</th>\n",
       "      <th>ind_nomina_ult1</th>\n",
       "      <th>ind_nom_pens_ult1</th>\n",
       "      <th>ind_recibo_ult1</th>\n",
       "    </tr>\n",
       "  </thead>\n",
       "  <tbody>\n",
       "    <tr>\n",
       "      <th>0</th>\n",
       "      <td>2015-01-28</td>\n",
       "      <td>1375586</td>\n",
       "      <td>N</td>\n",
       "      <td>ES</td>\n",
       "      <td>H</td>\n",
       "      <td>35</td>\n",
       "      <td>2015-01-12</td>\n",
       "      <td>0.0</td>\n",
       "      <td>6</td>\n",
       "      <td>1.0</td>\n",
       "      <td>...</td>\n",
       "      <td>0</td>\n",
       "      <td>0</td>\n",
       "      <td>0</td>\n",
       "      <td>0</td>\n",
       "      <td>0</td>\n",
       "      <td>0</td>\n",
       "      <td>0</td>\n",
       "      <td>0.0</td>\n",
       "      <td>0.0</td>\n",
       "      <td>0</td>\n",
       "    </tr>\n",
       "    <tr>\n",
       "      <th>1</th>\n",
       "      <td>2015-01-28</td>\n",
       "      <td>1050611</td>\n",
       "      <td>N</td>\n",
       "      <td>ES</td>\n",
       "      <td>V</td>\n",
       "      <td>23</td>\n",
       "      <td>2012-08-10</td>\n",
       "      <td>0.0</td>\n",
       "      <td>35</td>\n",
       "      <td>1.0</td>\n",
       "      <td>...</td>\n",
       "      <td>0</td>\n",
       "      <td>0</td>\n",
       "      <td>0</td>\n",
       "      <td>0</td>\n",
       "      <td>0</td>\n",
       "      <td>0</td>\n",
       "      <td>0</td>\n",
       "      <td>0.0</td>\n",
       "      <td>0.0</td>\n",
       "      <td>0</td>\n",
       "    </tr>\n",
       "    <tr>\n",
       "      <th>2</th>\n",
       "      <td>2015-01-28</td>\n",
       "      <td>1050612</td>\n",
       "      <td>N</td>\n",
       "      <td>ES</td>\n",
       "      <td>V</td>\n",
       "      <td>23</td>\n",
       "      <td>2012-08-10</td>\n",
       "      <td>0.0</td>\n",
       "      <td>35</td>\n",
       "      <td>1.0</td>\n",
       "      <td>...</td>\n",
       "      <td>0</td>\n",
       "      <td>0</td>\n",
       "      <td>0</td>\n",
       "      <td>0</td>\n",
       "      <td>0</td>\n",
       "      <td>0</td>\n",
       "      <td>0</td>\n",
       "      <td>0.0</td>\n",
       "      <td>0.0</td>\n",
       "      <td>0</td>\n",
       "    </tr>\n",
       "    <tr>\n",
       "      <th>3</th>\n",
       "      <td>2015-01-28</td>\n",
       "      <td>1050613</td>\n",
       "      <td>N</td>\n",
       "      <td>ES</td>\n",
       "      <td>H</td>\n",
       "      <td>22</td>\n",
       "      <td>2012-08-10</td>\n",
       "      <td>0.0</td>\n",
       "      <td>35</td>\n",
       "      <td>1.0</td>\n",
       "      <td>...</td>\n",
       "      <td>0</td>\n",
       "      <td>0</td>\n",
       "      <td>0</td>\n",
       "      <td>0</td>\n",
       "      <td>0</td>\n",
       "      <td>0</td>\n",
       "      <td>0</td>\n",
       "      <td>0.0</td>\n",
       "      <td>0.0</td>\n",
       "      <td>0</td>\n",
       "    </tr>\n",
       "    <tr>\n",
       "      <th>4</th>\n",
       "      <td>2015-01-28</td>\n",
       "      <td>1050614</td>\n",
       "      <td>N</td>\n",
       "      <td>ES</td>\n",
       "      <td>V</td>\n",
       "      <td>23</td>\n",
       "      <td>2012-08-10</td>\n",
       "      <td>0.0</td>\n",
       "      <td>35</td>\n",
       "      <td>1.0</td>\n",
       "      <td>...</td>\n",
       "      <td>0</td>\n",
       "      <td>0</td>\n",
       "      <td>0</td>\n",
       "      <td>0</td>\n",
       "      <td>0</td>\n",
       "      <td>0</td>\n",
       "      <td>0</td>\n",
       "      <td>0.0</td>\n",
       "      <td>0.0</td>\n",
       "      <td>0</td>\n",
       "    </tr>\n",
       "  </tbody>\n",
       "</table>\n",
       "<p>5 rows × 48 columns</p>\n",
       "</div>"
      ],
      "text/plain": [
       "   fecha_dato  ncodpers ind_empleado pais_residencia sexo  age  fecha_alta  \\\n",
       "0  2015-01-28   1375586            N              ES    H   35  2015-01-12   \n",
       "1  2015-01-28   1050611            N              ES    V   23  2012-08-10   \n",
       "2  2015-01-28   1050612            N              ES    V   23  2012-08-10   \n",
       "3  2015-01-28   1050613            N              ES    H   22  2012-08-10   \n",
       "4  2015-01-28   1050614            N              ES    V   23  2012-08-10   \n",
       "\n",
       "   ind_nuevo antiguedad  indrel  ... ind_hip_fin_ult1 ind_plan_fin_ult1  \\\n",
       "0        0.0          6     1.0  ...                0                 0   \n",
       "1        0.0         35     1.0  ...                0                 0   \n",
       "2        0.0         35     1.0  ...                0                 0   \n",
       "3        0.0         35     1.0  ...                0                 0   \n",
       "4        0.0         35     1.0  ...                0                 0   \n",
       "\n",
       "  ind_pres_fin_ult1 ind_reca_fin_ult1 ind_tjcr_fin_ult1 ind_valo_fin_ult1  \\\n",
       "0                 0                 0                 0                 0   \n",
       "1                 0                 0                 0                 0   \n",
       "2                 0                 0                 0                 0   \n",
       "3                 0                 0                 0                 0   \n",
       "4                 0                 0                 0                 0   \n",
       "\n",
       "  ind_viv_fin_ult1 ind_nomina_ult1  ind_nom_pens_ult1  ind_recibo_ult1  \n",
       "0                0             0.0                0.0                0  \n",
       "1                0             0.0                0.0                0  \n",
       "2                0             0.0                0.0                0  \n",
       "3                0             0.0                0.0                0  \n",
       "4                0             0.0                0.0                0  \n",
       "\n",
       "[5 rows x 48 columns]"
      ]
     },
     "execution_count": 5,
     "metadata": {},
     "output_type": "execute_result"
    }
   ],
   "source": [
    "train.head()"
   ]
  },
  {
   "cell_type": "code",
   "execution_count": 6,
   "metadata": {},
   "outputs": [
    {
     "data": {
      "text/plain": [
       "(929615, 24)"
      ]
     },
     "execution_count": 6,
     "metadata": {},
     "output_type": "execute_result"
    }
   ],
   "source": [
    "test.shape"
   ]
  },
  {
   "cell_type": "code",
   "execution_count": 7,
   "metadata": {
    "scrolled": false
   },
   "outputs": [
    {
     "data": {
      "text/plain": [
       "Index(['fecha_dato', 'ncodpers', 'ind_empleado', 'pais_residencia', 'sexo',\n",
       "       'age', 'fecha_alta', 'ind_nuevo', 'antiguedad', 'indrel',\n",
       "       'ult_fec_cli_1t', 'indrel_1mes', 'tiprel_1mes', 'indresi', 'indext',\n",
       "       'conyuemp', 'canal_entrada', 'indfall', 'tipodom', 'cod_prov',\n",
       "       'nomprov', 'ind_actividad_cliente', 'renta', 'segmento'],\n",
       "      dtype='object')"
      ]
     },
     "execution_count": 7,
     "metadata": {},
     "output_type": "execute_result"
    }
   ],
   "source": [
    "test.columns"
   ]
  },
  {
   "cell_type": "code",
   "execution_count": 8,
   "metadata": {
    "scrolled": false
   },
   "outputs": [
    {
     "data": {
      "text/html": [
       "<div>\n",
       "<style scoped>\n",
       "    .dataframe tbody tr th:only-of-type {\n",
       "        vertical-align: middle;\n",
       "    }\n",
       "\n",
       "    .dataframe tbody tr th {\n",
       "        vertical-align: top;\n",
       "    }\n",
       "\n",
       "    .dataframe thead th {\n",
       "        text-align: right;\n",
       "    }\n",
       "</style>\n",
       "<table border=\"1\" class=\"dataframe\">\n",
       "  <thead>\n",
       "    <tr style=\"text-align: right;\">\n",
       "      <th></th>\n",
       "      <th>fecha_dato</th>\n",
       "      <th>ncodpers</th>\n",
       "      <th>ind_empleado</th>\n",
       "      <th>pais_residencia</th>\n",
       "      <th>sexo</th>\n",
       "      <th>age</th>\n",
       "      <th>fecha_alta</th>\n",
       "      <th>ind_nuevo</th>\n",
       "      <th>antiguedad</th>\n",
       "      <th>indrel</th>\n",
       "      <th>...</th>\n",
       "      <th>indext</th>\n",
       "      <th>conyuemp</th>\n",
       "      <th>canal_entrada</th>\n",
       "      <th>indfall</th>\n",
       "      <th>tipodom</th>\n",
       "      <th>cod_prov</th>\n",
       "      <th>nomprov</th>\n",
       "      <th>ind_actividad_cliente</th>\n",
       "      <th>renta</th>\n",
       "      <th>segmento</th>\n",
       "    </tr>\n",
       "  </thead>\n",
       "  <tbody>\n",
       "    <tr>\n",
       "      <th>0</th>\n",
       "      <td>2016-06-28</td>\n",
       "      <td>15889</td>\n",
       "      <td>F</td>\n",
       "      <td>ES</td>\n",
       "      <td>V</td>\n",
       "      <td>56</td>\n",
       "      <td>1995-01-16</td>\n",
       "      <td>0</td>\n",
       "      <td>256</td>\n",
       "      <td>1</td>\n",
       "      <td>...</td>\n",
       "      <td>N</td>\n",
       "      <td>N</td>\n",
       "      <td>KAT</td>\n",
       "      <td>N</td>\n",
       "      <td>1</td>\n",
       "      <td>28.0</td>\n",
       "      <td>MADRID</td>\n",
       "      <td>1</td>\n",
       "      <td>326124.90</td>\n",
       "      <td>01 - TOP</td>\n",
       "    </tr>\n",
       "    <tr>\n",
       "      <th>1</th>\n",
       "      <td>2016-06-28</td>\n",
       "      <td>1170544</td>\n",
       "      <td>N</td>\n",
       "      <td>ES</td>\n",
       "      <td>H</td>\n",
       "      <td>36</td>\n",
       "      <td>2013-08-28</td>\n",
       "      <td>0</td>\n",
       "      <td>34</td>\n",
       "      <td>1</td>\n",
       "      <td>...</td>\n",
       "      <td>N</td>\n",
       "      <td>NaN</td>\n",
       "      <td>KAT</td>\n",
       "      <td>N</td>\n",
       "      <td>1</td>\n",
       "      <td>3.0</td>\n",
       "      <td>ALICANTE</td>\n",
       "      <td>0</td>\n",
       "      <td>NA</td>\n",
       "      <td>02 - PARTICULARES</td>\n",
       "    </tr>\n",
       "    <tr>\n",
       "      <th>2</th>\n",
       "      <td>2016-06-28</td>\n",
       "      <td>1170545</td>\n",
       "      <td>N</td>\n",
       "      <td>ES</td>\n",
       "      <td>V</td>\n",
       "      <td>22</td>\n",
       "      <td>2013-08-28</td>\n",
       "      <td>0</td>\n",
       "      <td>34</td>\n",
       "      <td>1</td>\n",
       "      <td>...</td>\n",
       "      <td>N</td>\n",
       "      <td>NaN</td>\n",
       "      <td>KHE</td>\n",
       "      <td>N</td>\n",
       "      <td>1</td>\n",
       "      <td>15.0</td>\n",
       "      <td>CORUÑA, A</td>\n",
       "      <td>1</td>\n",
       "      <td>NA</td>\n",
       "      <td>03 - UNIVERSITARIO</td>\n",
       "    </tr>\n",
       "    <tr>\n",
       "      <th>3</th>\n",
       "      <td>2016-06-28</td>\n",
       "      <td>1170547</td>\n",
       "      <td>N</td>\n",
       "      <td>ES</td>\n",
       "      <td>H</td>\n",
       "      <td>22</td>\n",
       "      <td>2013-08-28</td>\n",
       "      <td>0</td>\n",
       "      <td>34</td>\n",
       "      <td>1</td>\n",
       "      <td>...</td>\n",
       "      <td>N</td>\n",
       "      <td>NaN</td>\n",
       "      <td>KHE</td>\n",
       "      <td>N</td>\n",
       "      <td>1</td>\n",
       "      <td>8.0</td>\n",
       "      <td>BARCELONA</td>\n",
       "      <td>0</td>\n",
       "      <td>148402.98</td>\n",
       "      <td>03 - UNIVERSITARIO</td>\n",
       "    </tr>\n",
       "    <tr>\n",
       "      <th>4</th>\n",
       "      <td>2016-06-28</td>\n",
       "      <td>1170548</td>\n",
       "      <td>N</td>\n",
       "      <td>ES</td>\n",
       "      <td>H</td>\n",
       "      <td>22</td>\n",
       "      <td>2013-08-28</td>\n",
       "      <td>0</td>\n",
       "      <td>34</td>\n",
       "      <td>1</td>\n",
       "      <td>...</td>\n",
       "      <td>N</td>\n",
       "      <td>NaN</td>\n",
       "      <td>KHE</td>\n",
       "      <td>N</td>\n",
       "      <td>1</td>\n",
       "      <td>7.0</td>\n",
       "      <td>BALEARS, ILLES</td>\n",
       "      <td>0</td>\n",
       "      <td>106885.80</td>\n",
       "      <td>03 - UNIVERSITARIO</td>\n",
       "    </tr>\n",
       "  </tbody>\n",
       "</table>\n",
       "<p>5 rows × 24 columns</p>\n",
       "</div>"
      ],
      "text/plain": [
       "   fecha_dato  ncodpers ind_empleado pais_residencia sexo  age  fecha_alta  \\\n",
       "0  2016-06-28     15889            F              ES    V   56  1995-01-16   \n",
       "1  2016-06-28   1170544            N              ES    H   36  2013-08-28   \n",
       "2  2016-06-28   1170545            N              ES    V   22  2013-08-28   \n",
       "3  2016-06-28   1170547            N              ES    H   22  2013-08-28   \n",
       "4  2016-06-28   1170548            N              ES    H   22  2013-08-28   \n",
       "\n",
       "   ind_nuevo  antiguedad  indrel  ... indext  conyuemp canal_entrada indfall  \\\n",
       "0          0         256       1  ...      N         N           KAT       N   \n",
       "1          0          34       1  ...      N       NaN           KAT       N   \n",
       "2          0          34       1  ...      N       NaN           KHE       N   \n",
       "3          0          34       1  ...      N       NaN           KHE       N   \n",
       "4          0          34       1  ...      N       NaN           KHE       N   \n",
       "\n",
       "  tipodom cod_prov         nomprov ind_actividad_cliente        renta  \\\n",
       "0       1     28.0          MADRID                     1    326124.90   \n",
       "1       1      3.0        ALICANTE                     0           NA   \n",
       "2       1     15.0       CORUÑA, A                     1           NA   \n",
       "3       1      8.0       BARCELONA                     0    148402.98   \n",
       "4       1      7.0  BALEARS, ILLES                     0    106885.80   \n",
       "\n",
       "             segmento  \n",
       "0            01 - TOP  \n",
       "1   02 - PARTICULARES  \n",
       "2  03 - UNIVERSITARIO  \n",
       "3  03 - UNIVERSITARIO  \n",
       "4  03 - UNIVERSITARIO  \n",
       "\n",
       "[5 rows x 24 columns]"
      ]
     },
     "execution_count": 8,
     "metadata": {},
     "output_type": "execute_result"
    }
   ],
   "source": [
    "test.head()"
   ]
  },
  {
   "cell_type": "code",
   "execution_count": 9,
   "metadata": {},
   "outputs": [],
   "source": [
    "fields = pd.read_csv('../data/santander/Data Fields.csv')\n",
    "products = pd.read_csv('../data/santander/products.csv')"
   ]
  },
  {
   "cell_type": "code",
   "execution_count": 10,
   "metadata": {
    "scrolled": true
   },
   "outputs": [
    {
     "data": {
      "text/html": [
       "<div>\n",
       "<style scoped>\n",
       "    .dataframe tbody tr th:only-of-type {\n",
       "        vertical-align: middle;\n",
       "    }\n",
       "\n",
       "    .dataframe tbody tr th {\n",
       "        vertical-align: top;\n",
       "    }\n",
       "\n",
       "    .dataframe thead th {\n",
       "        text-align: right;\n",
       "    }\n",
       "</style>\n",
       "<table border=\"1\" class=\"dataframe\">\n",
       "  <thead>\n",
       "    <tr style=\"text-align: right;\">\n",
       "      <th></th>\n",
       "      <th>변수명</th>\n",
       "      <th>뜻</th>\n",
       "      <th>범례</th>\n",
       "    </tr>\n",
       "  </thead>\n",
       "  <tbody>\n",
       "    <tr>\n",
       "      <th>0</th>\n",
       "      <td>fecha_dato</td>\n",
       "      <td>데이터 수집일</td>\n",
       "      <td>2015년 1월 ~ 2016년 5월</td>\n",
       "    </tr>\n",
       "    <tr>\n",
       "      <th>1</th>\n",
       "      <td>ncodpers</td>\n",
       "      <td>고객 코드</td>\n",
       "      <td>NaN</td>\n",
       "    </tr>\n",
       "    <tr>\n",
       "      <th>2</th>\n",
       "      <td>ind_empleado</td>\n",
       "      <td>고용여부</td>\n",
       "      <td>A(active), B(ex employed), F(filial), N(not em...</td>\n",
       "    </tr>\n",
       "    <tr>\n",
       "      <th>3</th>\n",
       "      <td>pais_residencia</td>\n",
       "      <td>국적</td>\n",
       "      <td>매우 다양함</td>\n",
       "    </tr>\n",
       "    <tr>\n",
       "      <th>4</th>\n",
       "      <td>sexo</td>\n",
       "      <td>성별</td>\n",
       "      <td>V(여성), H(남성)</td>\n",
       "    </tr>\n",
       "    <tr>\n",
       "      <th>5</th>\n",
       "      <td>age</td>\n",
       "      <td>나이</td>\n",
       "      <td>NaN</td>\n",
       "    </tr>\n",
       "    <tr>\n",
       "      <th>6</th>\n",
       "      <td>fecha_alta</td>\n",
       "      <td>고객 첫 계약 날짜</td>\n",
       "      <td>NaN</td>\n",
       "    </tr>\n",
       "    <tr>\n",
       "      <th>7</th>\n",
       "      <td>ind_nuevo</td>\n",
       "      <td>최근 6개월 신규 고객여부</td>\n",
       "      <td>Y/N</td>\n",
       "    </tr>\n",
       "    <tr>\n",
       "      <th>8</th>\n",
       "      <td>antiguedad</td>\n",
       "      <td>은행 거래 누적 기간</td>\n",
       "      <td>NaN</td>\n",
       "    </tr>\n",
       "    <tr>\n",
       "      <th>9</th>\n",
       "      <td>indrel</td>\n",
       "      <td>First/Primary 유지여부</td>\n",
       "      <td>Y/N</td>\n",
       "    </tr>\n",
       "    <tr>\n",
       "      <th>10</th>\n",
       "      <td>ult_fec_cli_1t</td>\n",
       "      <td>Primary 해제된 날짜</td>\n",
       "      <td>NaN</td>\n",
       "    </tr>\n",
       "    <tr>\n",
       "      <th>11</th>\n",
       "      <td>indrel_1mes</td>\n",
       "      <td>고객 타입</td>\n",
       "      <td>1(First/Primary), 2(co-owner), 3(former primar...</td>\n",
       "    </tr>\n",
       "    <tr>\n",
       "      <th>12</th>\n",
       "      <td>tiprel_1mes</td>\n",
       "      <td>고객 상태</td>\n",
       "      <td>A(activate), I(inactive), P(former customer), ...</td>\n",
       "    </tr>\n",
       "    <tr>\n",
       "      <th>13</th>\n",
       "      <td>indresi</td>\n",
       "      <td>은행이 속한 국가에 거주 여부</td>\n",
       "      <td>Y/N</td>\n",
       "    </tr>\n",
       "    <tr>\n",
       "      <th>14</th>\n",
       "      <td>indext</td>\n",
       "      <td>외국인 여부</td>\n",
       "      <td>Y/N</td>\n",
       "    </tr>\n",
       "    <tr>\n",
       "      <th>15</th>\n",
       "      <td>conyuemp</td>\n",
       "      <td>직원 배우자 여부</td>\n",
       "      <td>Y/N</td>\n",
       "    </tr>\n",
       "    <tr>\n",
       "      <th>16</th>\n",
       "      <td>canal_entrada</td>\n",
       "      <td>고객 유입 경로</td>\n",
       "      <td>매우 다양함</td>\n",
       "    </tr>\n",
       "    <tr>\n",
       "      <th>17</th>\n",
       "      <td>indfall</td>\n",
       "      <td>고객 사망여부</td>\n",
       "      <td>Y/N</td>\n",
       "    </tr>\n",
       "    <tr>\n",
       "      <th>18</th>\n",
       "      <td>tipodom</td>\n",
       "      <td>주소 타입</td>\n",
       "      <td>Y/N</td>\n",
       "    </tr>\n",
       "    <tr>\n",
       "      <th>19</th>\n",
       "      <td>cod_prov</td>\n",
       "      <td>지역 코드</td>\n",
       "      <td>매우 다양함</td>\n",
       "    </tr>\n",
       "    <tr>\n",
       "      <th>20</th>\n",
       "      <td>nomprov</td>\n",
       "      <td>지역명</td>\n",
       "      <td>매우 다양함</td>\n",
       "    </tr>\n",
       "    <tr>\n",
       "      <th>21</th>\n",
       "      <td>ind_actividad_cliente</td>\n",
       "      <td>활동적 고객 여부</td>\n",
       "      <td>Y/N</td>\n",
       "    </tr>\n",
       "    <tr>\n",
       "      <th>22</th>\n",
       "      <td>renta</td>\n",
       "      <td>가구 총 수입</td>\n",
       "      <td>NaN</td>\n",
       "    </tr>\n",
       "    <tr>\n",
       "      <th>23</th>\n",
       "      <td>segmento</td>\n",
       "      <td>고객 분류</td>\n",
       "      <td>1(VIP), 2(개인), 3(대학 졸업생)</td>\n",
       "    </tr>\n",
       "  </tbody>\n",
       "</table>\n",
       "</div>"
      ],
      "text/plain": [
       "                      변수명                   뜻  \\\n",
       "0              fecha_dato             데이터 수집일   \n",
       "1                ncodpers               고객 코드   \n",
       "2            ind_empleado                고용여부   \n",
       "3         pais_residencia                  국적   \n",
       "4                    sexo                  성별   \n",
       "5                     age                  나이   \n",
       "6              fecha_alta          고객 첫 계약 날짜   \n",
       "7               ind_nuevo      최근 6개월 신규 고객여부   \n",
       "8              antiguedad         은행 거래 누적 기간   \n",
       "9                  indrel  First/Primary 유지여부   \n",
       "10         ult_fec_cli_1t      Primary 해제된 날짜   \n",
       "11            indrel_1mes               고객 타입   \n",
       "12            tiprel_1mes               고객 상태   \n",
       "13                indresi    은행이 속한 국가에 거주 여부   \n",
       "14                 indext              외국인 여부   \n",
       "15               conyuemp           직원 배우자 여부   \n",
       "16          canal_entrada            고객 유입 경로   \n",
       "17                indfall             고객 사망여부   \n",
       "18                tipodom               주소 타입   \n",
       "19               cod_prov               지역 코드   \n",
       "20                nomprov                 지역명   \n",
       "21  ind_actividad_cliente           활동적 고객 여부   \n",
       "22                  renta             가구 총 수입   \n",
       "23               segmento               고객 분류   \n",
       "\n",
       "                                                   범례  \n",
       "0                                 2015년 1월 ~ 2016년 5월  \n",
       "1                                                 NaN  \n",
       "2   A(active), B(ex employed), F(filial), N(not em...  \n",
       "3                                              매우 다양함  \n",
       "4                                        V(여성), H(남성)  \n",
       "5                                                 NaN  \n",
       "6                                                 NaN  \n",
       "7                                                 Y/N  \n",
       "8                                                 NaN  \n",
       "9                                                 Y/N  \n",
       "10                                                NaN  \n",
       "11  1(First/Primary), 2(co-owner), 3(former primar...  \n",
       "12  A(activate), I(inactive), P(former customer), ...  \n",
       "13                                                Y/N  \n",
       "14                                                Y/N  \n",
       "15                                                Y/N  \n",
       "16                                             매우 다양함  \n",
       "17                                                Y/N  \n",
       "18                                                Y/N  \n",
       "19                                             매우 다양함  \n",
       "20                                             매우 다양함  \n",
       "21                                                Y/N  \n",
       "22                                                NaN  \n",
       "23                           1(VIP), 2(개인), 3(대학 졸업생)  "
      ]
     },
     "execution_count": 10,
     "metadata": {},
     "output_type": "execute_result"
    }
   ],
   "source": [
    "fields"
   ]
  },
  {
   "cell_type": "code",
   "execution_count": 11,
   "metadata": {
    "scrolled": true
   },
   "outputs": [
    {
     "data": {
      "text/html": [
       "<div>\n",
       "<style scoped>\n",
       "    .dataframe tbody tr th:only-of-type {\n",
       "        vertical-align: middle;\n",
       "    }\n",
       "\n",
       "    .dataframe tbody tr th {\n",
       "        vertical-align: top;\n",
       "    }\n",
       "\n",
       "    .dataframe thead th {\n",
       "        text-align: right;\n",
       "    }\n",
       "</style>\n",
       "<table border=\"1\" class=\"dataframe\">\n",
       "  <thead>\n",
       "    <tr style=\"text-align: right;\">\n",
       "      <th></th>\n",
       "      <th>변수명</th>\n",
       "      <th>상품명</th>\n",
       "    </tr>\n",
       "  </thead>\n",
       "  <tbody>\n",
       "    <tr>\n",
       "      <th>0</th>\n",
       "      <td>ind_ahor_fin_ult1</td>\n",
       "      <td>Saving Account</td>\n",
       "    </tr>\n",
       "    <tr>\n",
       "      <th>1</th>\n",
       "      <td>ind_aval_fin_ult1</td>\n",
       "      <td>Guarantees</td>\n",
       "    </tr>\n",
       "    <tr>\n",
       "      <th>2</th>\n",
       "      <td>ind_cco_fin_ult1</td>\n",
       "      <td>Current Accounts</td>\n",
       "    </tr>\n",
       "    <tr>\n",
       "      <th>3</th>\n",
       "      <td>ind_cder_fin_ult1</td>\n",
       "      <td>Derivada Account</td>\n",
       "    </tr>\n",
       "    <tr>\n",
       "      <th>4</th>\n",
       "      <td>ind_cno_fin_ult1</td>\n",
       "      <td>Payroll Account</td>\n",
       "    </tr>\n",
       "    <tr>\n",
       "      <th>5</th>\n",
       "      <td>ind_ctju_fin_ult1</td>\n",
       "      <td>Junior Account</td>\n",
       "    </tr>\n",
       "    <tr>\n",
       "      <th>6</th>\n",
       "      <td>ind_ctma_fin_ult1</td>\n",
       "      <td>Más particular Account</td>\n",
       "    </tr>\n",
       "    <tr>\n",
       "      <th>7</th>\n",
       "      <td>ind_ctop_fin_ult1</td>\n",
       "      <td>particular Account</td>\n",
       "    </tr>\n",
       "    <tr>\n",
       "      <th>8</th>\n",
       "      <td>ind_ctpp_fin_ult1</td>\n",
       "      <td>particular Plus Account</td>\n",
       "    </tr>\n",
       "    <tr>\n",
       "      <th>9</th>\n",
       "      <td>ind_deco_fin_ult1</td>\n",
       "      <td>Short-term deposits</td>\n",
       "    </tr>\n",
       "    <tr>\n",
       "      <th>10</th>\n",
       "      <td>ind_deme_fin_ult1</td>\n",
       "      <td>Medium-term deposits</td>\n",
       "    </tr>\n",
       "    <tr>\n",
       "      <th>11</th>\n",
       "      <td>ind_dela_fin_ult1</td>\n",
       "      <td>Long-term deposits</td>\n",
       "    </tr>\n",
       "    <tr>\n",
       "      <th>12</th>\n",
       "      <td>ind_ecue_fin_ult1</td>\n",
       "      <td>e-account</td>\n",
       "    </tr>\n",
       "    <tr>\n",
       "      <th>13</th>\n",
       "      <td>ind_fond_fin_ult1</td>\n",
       "      <td>Funds</td>\n",
       "    </tr>\n",
       "    <tr>\n",
       "      <th>14</th>\n",
       "      <td>ind_hip_fin_ult1</td>\n",
       "      <td>Mortgage</td>\n",
       "    </tr>\n",
       "    <tr>\n",
       "      <th>15</th>\n",
       "      <td>ind_plan_fin_ult1</td>\n",
       "      <td>Pensions</td>\n",
       "    </tr>\n",
       "    <tr>\n",
       "      <th>16</th>\n",
       "      <td>ind_pres_fin_ult1</td>\n",
       "      <td>Loans</td>\n",
       "    </tr>\n",
       "    <tr>\n",
       "      <th>17</th>\n",
       "      <td>ind_reca_fin_ult1</td>\n",
       "      <td>Taxes</td>\n",
       "    </tr>\n",
       "    <tr>\n",
       "      <th>18</th>\n",
       "      <td>ind_tjcr_fin_ult1</td>\n",
       "      <td>Credit Card</td>\n",
       "    </tr>\n",
       "    <tr>\n",
       "      <th>19</th>\n",
       "      <td>ind_valo_fin_ult1</td>\n",
       "      <td>Securities</td>\n",
       "    </tr>\n",
       "    <tr>\n",
       "      <th>20</th>\n",
       "      <td>ind_viv_fin_ult1</td>\n",
       "      <td>Home Account</td>\n",
       "    </tr>\n",
       "    <tr>\n",
       "      <th>21</th>\n",
       "      <td>ind_nomina_ult1</td>\n",
       "      <td>Payroll</td>\n",
       "    </tr>\n",
       "    <tr>\n",
       "      <th>22</th>\n",
       "      <td>ind_nom_pens_ult1</td>\n",
       "      <td>Pensions</td>\n",
       "    </tr>\n",
       "    <tr>\n",
       "      <th>23</th>\n",
       "      <td>ind_recibo_ult1</td>\n",
       "      <td>Direct Debit</td>\n",
       "    </tr>\n",
       "  </tbody>\n",
       "</table>\n",
       "</div>"
      ],
      "text/plain": [
       "                  변수명                      상품명\n",
       "0   ind_ahor_fin_ult1           Saving Account\n",
       "1   ind_aval_fin_ult1               Guarantees\n",
       "2    ind_cco_fin_ult1         Current Accounts\n",
       "3   ind_cder_fin_ult1         Derivada Account\n",
       "4    ind_cno_fin_ult1          Payroll Account\n",
       "5   ind_ctju_fin_ult1           Junior Account\n",
       "6   ind_ctma_fin_ult1   Más particular Account\n",
       "7   ind_ctop_fin_ult1       particular Account\n",
       "8   ind_ctpp_fin_ult1  particular Plus Account\n",
       "9   ind_deco_fin_ult1      Short-term deposits\n",
       "10  ind_deme_fin_ult1     Medium-term deposits\n",
       "11  ind_dela_fin_ult1       Long-term deposits\n",
       "12  ind_ecue_fin_ult1                e-account\n",
       "13  ind_fond_fin_ult1                    Funds\n",
       "14   ind_hip_fin_ult1                 Mortgage\n",
       "15  ind_plan_fin_ult1                 Pensions\n",
       "16  ind_pres_fin_ult1                    Loans\n",
       "17  ind_reca_fin_ult1                    Taxes\n",
       "18  ind_tjcr_fin_ult1              Credit Card\n",
       "19  ind_valo_fin_ult1               Securities\n",
       "20   ind_viv_fin_ult1             Home Account\n",
       "21    ind_nomina_ult1                  Payroll\n",
       "22  ind_nom_pens_ult1                 Pensions\n",
       "23    ind_recibo_ult1             Direct Debit"
      ]
     },
     "execution_count": 11,
     "metadata": {},
     "output_type": "execute_result"
    }
   ],
   "source": [
    "products"
   ]
  },
  {
   "cell_type": "code",
   "execution_count": null,
   "metadata": {},
   "outputs": [],
   "source": []
  },
  {
   "cell_type": "markdown",
   "metadata": {},
   "source": [
    "다음은 변수들을 하나씩 살펴보면서 대략적인 데이터 분포와 결측치, 이상치 유무를 확인한다. 이때 train 데이터에서는 데이터 정제 과정에서 결측치 및 이상치를 제거해도 무방하지만, test 데이터는 함부로 제거하면 안 되므로 결측치와 이상치를 적절히 대체할 방법을 찾아야 한다. "
   ]
  },
  {
   "cell_type": "code",
   "execution_count": 12,
   "metadata": {},
   "outputs": [],
   "source": [
    "train_test = pd.concat([train, test], sort = False)\n",
    "train_test.reset_index(drop = True, inplace = True)"
   ]
  },
  {
   "cell_type": "code",
   "execution_count": 13,
   "metadata": {},
   "outputs": [],
   "source": [
    "idx_col = list(train_test.columns[:2])\n",
    "X_col = list(train_test.columns[2:24])\n",
    "y_col = list(train_test.columns[24:])"
   ]
  },
  {
   "cell_type": "code",
   "execution_count": 14,
   "metadata": {},
   "outputs": [
    {
     "data": {
      "text/plain": [
       "2015-01-28    625457\n",
       "2015-02-28    627394\n",
       "2015-03-28    629209\n",
       "2015-04-28    630367\n",
       "2015-05-28    631957\n",
       "2015-06-28    632110\n",
       "2015-07-28    829817\n",
       "2015-08-28    843201\n",
       "2015-09-28    865440\n",
       "2015-10-28    892251\n",
       "2015-11-28    906109\n",
       "2015-12-28    912021\n",
       "2016-01-28    916269\n",
       "2016-02-28    920904\n",
       "2016-03-28    925076\n",
       "2016-04-28    928274\n",
       "2016-05-28    931453\n",
       "2016-06-28    929615\n",
       "Name: fecha_dato, dtype: int64"
      ]
     },
     "execution_count": 14,
     "metadata": {},
     "output_type": "execute_result"
    }
   ],
   "source": [
    "#데이터 수집일\n",
    "train_test['fecha_dato'].value_counts(dropna = False).sort_index()"
   ]
  },
  {
   "cell_type": "code",
   "execution_count": 15,
   "metadata": {
    "scrolled": false
   },
   "outputs": [
    {
     "data": {
      "image/png": "[encoded data removed]",
      "text/plain": [
       "<Figure size 432x576 with 1 Axes>"
      ]
     },
     "metadata": {
      "needs_background": "light"
     },
     "output_type": "display_data"
    }
   ],
   "source": [
    "plt.figure(figsize = (6, 8))\n",
    "sns.countplot(y = train_test['fecha_dato'].sort_values())\n",
    "plt.show()"
   ]
  },
  {
   "cell_type": "markdown",
   "metadata": {},
   "source": [
    "데이터 측정기간동안 고객의 수는 일정하지 않고 매달 조금씩 변화했을을 알 수 있다. 특히 2015년 7월을 기점으로 크게 증가한 것을 볼 수 있다. <br/>\n",
    "또한 날짜 데이터는 숫자 형식으로 간단하게 치환한다. "
   ]
  },
  {
   "cell_type": "code",
   "execution_count": 16,
   "metadata": {},
   "outputs": [],
   "source": [
    "import datetime as dt"
   ]
  },
  {
   "cell_type": "code",
   "execution_count": 17,
   "metadata": {},
   "outputs": [],
   "source": [
    "aa = pd.to_datetime(train_test['fecha_dato'])\n",
    "train_test['fecha_dato'] = (aa.dt.year - aa.min().year)*12 + (aa.dt.month - aa.min().month)\n",
    "#날짜 데이터를 숫자형식으로 간단하게 변환"
   ]
  },
  {
   "cell_type": "code",
   "execution_count": null,
   "metadata": {},
   "outputs": [],
   "source": []
  },
  {
   "cell_type": "code",
   "execution_count": 18,
   "metadata": {
    "scrolled": true
   },
   "outputs": [
    {
     "data": {
      "text/plain": [
       "18    604862\n",
       "17      5851\n",
       "16      5448\n",
       "15      5090\n",
       "14      5291\n",
       "13      5043\n",
       "12    190696\n",
       "11     14795\n",
       "10     23420\n",
       "9      28111\n",
       "8      15963\n",
       "7       8171\n",
       "6       9507\n",
       "5       8142\n",
       "4       6789\n",
       "3       5947\n",
       "2       7325\n",
       "1       6194\n",
       "Name: ncodpers, dtype: int64"
      ]
     },
     "execution_count": 18,
     "metadata": {},
     "output_type": "execute_result"
    }
   ],
   "source": [
    "#고객코드\n",
    "train_test['ncodpers'].value_counts(dropna = False).value_counts(dropna = False).sort_index(ascending=False)"
   ]
  },
  {
   "cell_type": "code",
   "execution_count": 19,
   "metadata": {},
   "outputs": [
    {
     "data": {
      "image/png": "[encoded data removed]",
      "text/plain": [
       "<Figure size 576x576 with 1 Axes>"
      ]
     },
     "metadata": {},
     "output_type": "display_data"
    }
   ],
   "source": [
    "plt.figure(figsize = (8, 8))\n",
    "ratio = list(train_test['ncodpers'].value_counts(dropna = False).value_counts(dropna = False).sort_index(ascending=False))\n",
    "labels = train_test['ncodpers'].value_counts(dropna = False).value_counts(dropna = False).sort_index(ascending=False).index\n",
    "explode = [0.1]*len(ratio)\n",
    "plt.pie(ratio, labels=labels, autopct='%.1f%%', startangle=90, counterclock=False, explode=explode)\n",
    "plt.show()"
   ]
  },
  {
   "cell_type": "markdown",
   "metadata": {},
   "source": [
    "고객코드도 마찬가지로 전체 18개월동안 모두 포함된 고객도 있고 1달만 포함된 고객도 있다. "
   ]
  },
  {
   "cell_type": "code",
   "execution_count": null,
   "metadata": {},
   "outputs": [],
   "source": []
  },
  {
   "cell_type": "code",
   "execution_count": 20,
   "metadata": {
    "scrolled": false
   },
   "outputs": [
    {
     "data": {
      "text/plain": [
       "N      14540073\n",
       "NaN       27734\n",
       "B          3784\n",
       "F          2675\n",
       "A          2640\n",
       "S            18\n",
       "Name: ind_empleado, dtype: int64"
      ]
     },
     "execution_count": 20,
     "metadata": {},
     "output_type": "execute_result"
    }
   ],
   "source": [
    "#고용여부\n",
    "train_test['ind_empleado'].value_counts(dropna = False)"
   ]
  },
  {
   "cell_type": "code",
   "execution_count": 21,
   "metadata": {
    "scrolled": false
   },
   "outputs": [
    {
     "data": {
      "text/plain": [
       "ES     14479329\n",
       "NaN       27734\n",
       "FR         5472\n",
       "AR         5123\n",
       "DE         4906\n",
       "         ...   \n",
       "JM           13\n",
       "DJ           12\n",
       "ZW           12\n",
       "BM            7\n",
       "MT            3\n",
       "Name: pais_residencia, Length: 119, dtype: int64"
      ]
     },
     "execution_count": 21,
     "metadata": {},
     "output_type": "execute_result"
    }
   ],
   "source": [
    "#국적\n",
    "train_test['pais_residencia'].value_counts(dropna = False)"
   ]
  },
  {
   "cell_type": "markdown",
   "metadata": {},
   "source": [
    "고용여부와 국적은 대부분이 N(무직), ES(스페인)이다. 그런데 데이터가 누락된 값의 개수가 27734개로 같은 것으로 보아 뭔가 공통점이 있는 것으로 보이니 자세히 살펴본다. "
   ]
  },
  {
   "cell_type": "code",
   "execution_count": 22,
   "metadata": {
    "scrolled": true
   },
   "outputs": [
    {
     "data": {
      "text/html": [
       "<div>\n",
       "<style scoped>\n",
       "    .dataframe tbody tr th:only-of-type {\n",
       "        vertical-align: middle;\n",
       "    }\n",
       "\n",
       "    .dataframe tbody tr th {\n",
       "        vertical-align: top;\n",
       "    }\n",
       "\n",
       "    .dataframe thead th {\n",
       "        text-align: right;\n",
       "    }\n",
       "</style>\n",
       "<table border=\"1\" class=\"dataframe\">\n",
       "  <thead>\n",
       "    <tr style=\"text-align: right;\">\n",
       "      <th></th>\n",
       "      <th>fecha_dato</th>\n",
       "      <th>ncodpers</th>\n",
       "      <th>ind_empleado</th>\n",
       "      <th>pais_residencia</th>\n",
       "      <th>sexo</th>\n",
       "      <th>age</th>\n",
       "      <th>fecha_alta</th>\n",
       "      <th>ind_nuevo</th>\n",
       "      <th>antiguedad</th>\n",
       "      <th>indrel</th>\n",
       "      <th>...</th>\n",
       "      <th>ind_hip_fin_ult1</th>\n",
       "      <th>ind_plan_fin_ult1</th>\n",
       "      <th>ind_pres_fin_ult1</th>\n",
       "      <th>ind_reca_fin_ult1</th>\n",
       "      <th>ind_tjcr_fin_ult1</th>\n",
       "      <th>ind_valo_fin_ult1</th>\n",
       "      <th>ind_viv_fin_ult1</th>\n",
       "      <th>ind_nomina_ult1</th>\n",
       "      <th>ind_nom_pens_ult1</th>\n",
       "      <th>ind_recibo_ult1</th>\n",
       "    </tr>\n",
       "  </thead>\n",
       "  <tbody>\n",
       "    <tr>\n",
       "      <th>261</th>\n",
       "      <td>0</td>\n",
       "      <td>1050741</td>\n",
       "      <td>NaN</td>\n",
       "      <td>NaN</td>\n",
       "      <td>NaN</td>\n",
       "      <td>NA</td>\n",
       "      <td>NaN</td>\n",
       "      <td>NaN</td>\n",
       "      <td>NA</td>\n",
       "      <td>NaN</td>\n",
       "      <td>...</td>\n",
       "      <td>0.0</td>\n",
       "      <td>0.0</td>\n",
       "      <td>0.0</td>\n",
       "      <td>0.0</td>\n",
       "      <td>0.0</td>\n",
       "      <td>0.0</td>\n",
       "      <td>0.0</td>\n",
       "      <td>0.0</td>\n",
       "      <td>0.0</td>\n",
       "      <td>0.0</td>\n",
       "    </tr>\n",
       "    <tr>\n",
       "      <th>1029</th>\n",
       "      <td>0</td>\n",
       "      <td>1051017</td>\n",
       "      <td>NaN</td>\n",
       "      <td>NaN</td>\n",
       "      <td>NaN</td>\n",
       "      <td>NA</td>\n",
       "      <td>NaN</td>\n",
       "      <td>NaN</td>\n",
       "      <td>NA</td>\n",
       "      <td>NaN</td>\n",
       "      <td>...</td>\n",
       "      <td>0.0</td>\n",
       "      <td>0.0</td>\n",
       "      <td>0.0</td>\n",
       "      <td>0.0</td>\n",
       "      <td>0.0</td>\n",
       "      <td>0.0</td>\n",
       "      <td>0.0</td>\n",
       "      <td>0.0</td>\n",
       "      <td>0.0</td>\n",
       "      <td>0.0</td>\n",
       "    </tr>\n",
       "    <tr>\n",
       "      <th>1063</th>\n",
       "      <td>0</td>\n",
       "      <td>1051064</td>\n",
       "      <td>NaN</td>\n",
       "      <td>NaN</td>\n",
       "      <td>NaN</td>\n",
       "      <td>NA</td>\n",
       "      <td>NaN</td>\n",
       "      <td>NaN</td>\n",
       "      <td>NA</td>\n",
       "      <td>NaN</td>\n",
       "      <td>...</td>\n",
       "      <td>0.0</td>\n",
       "      <td>0.0</td>\n",
       "      <td>0.0</td>\n",
       "      <td>0.0</td>\n",
       "      <td>0.0</td>\n",
       "      <td>0.0</td>\n",
       "      <td>0.0</td>\n",
       "      <td>0.0</td>\n",
       "      <td>0.0</td>\n",
       "      <td>0.0</td>\n",
       "    </tr>\n",
       "    <tr>\n",
       "      <th>1154</th>\n",
       "      <td>0</td>\n",
       "      <td>1051387</td>\n",
       "      <td>NaN</td>\n",
       "      <td>NaN</td>\n",
       "      <td>NaN</td>\n",
       "      <td>NA</td>\n",
       "      <td>NaN</td>\n",
       "      <td>NaN</td>\n",
       "      <td>NA</td>\n",
       "      <td>NaN</td>\n",
       "      <td>...</td>\n",
       "      <td>0.0</td>\n",
       "      <td>0.0</td>\n",
       "      <td>0.0</td>\n",
       "      <td>0.0</td>\n",
       "      <td>0.0</td>\n",
       "      <td>0.0</td>\n",
       "      <td>0.0</td>\n",
       "      <td>0.0</td>\n",
       "      <td>0.0</td>\n",
       "      <td>0.0</td>\n",
       "    </tr>\n",
       "    <tr>\n",
       "      <th>1779</th>\n",
       "      <td>0</td>\n",
       "      <td>1048660</td>\n",
       "      <td>NaN</td>\n",
       "      <td>NaN</td>\n",
       "      <td>NaN</td>\n",
       "      <td>NA</td>\n",
       "      <td>NaN</td>\n",
       "      <td>NaN</td>\n",
       "      <td>NA</td>\n",
       "      <td>NaN</td>\n",
       "      <td>...</td>\n",
       "      <td>0.0</td>\n",
       "      <td>0.0</td>\n",
       "      <td>0.0</td>\n",
       "      <td>0.0</td>\n",
       "      <td>0.0</td>\n",
       "      <td>0.0</td>\n",
       "      <td>0.0</td>\n",
       "      <td>0.0</td>\n",
       "      <td>0.0</td>\n",
       "      <td>0.0</td>\n",
       "    </tr>\n",
       "    <tr>\n",
       "      <th>...</th>\n",
       "      <td>...</td>\n",
       "      <td>...</td>\n",
       "      <td>...</td>\n",
       "      <td>...</td>\n",
       "      <td>...</td>\n",
       "      <td>...</td>\n",
       "      <td>...</td>\n",
       "      <td>...</td>\n",
       "      <td>...</td>\n",
       "      <td>...</td>\n",
       "      <td>...</td>\n",
       "      <td>...</td>\n",
       "      <td>...</td>\n",
       "      <td>...</td>\n",
       "      <td>...</td>\n",
       "      <td>...</td>\n",
       "      <td>...</td>\n",
       "      <td>...</td>\n",
       "      <td>...</td>\n",
       "      <td>...</td>\n",
       "      <td>...</td>\n",
       "    </tr>\n",
       "    <tr>\n",
       "      <th>3775976</th>\n",
       "      <td>5</td>\n",
       "      <td>550081</td>\n",
       "      <td>NaN</td>\n",
       "      <td>NaN</td>\n",
       "      <td>NaN</td>\n",
       "      <td>NA</td>\n",
       "      <td>NaN</td>\n",
       "      <td>NaN</td>\n",
       "      <td>NA</td>\n",
       "      <td>NaN</td>\n",
       "      <td>...</td>\n",
       "      <td>0.0</td>\n",
       "      <td>0.0</td>\n",
       "      <td>0.0</td>\n",
       "      <td>1.0</td>\n",
       "      <td>0.0</td>\n",
       "      <td>0.0</td>\n",
       "      <td>0.0</td>\n",
       "      <td>NaN</td>\n",
       "      <td>NaN</td>\n",
       "      <td>0.0</td>\n",
       "    </tr>\n",
       "    <tr>\n",
       "      <th>3776175</th>\n",
       "      <td>5</td>\n",
       "      <td>550693</td>\n",
       "      <td>NaN</td>\n",
       "      <td>NaN</td>\n",
       "      <td>NaN</td>\n",
       "      <td>NA</td>\n",
       "      <td>NaN</td>\n",
       "      <td>NaN</td>\n",
       "      <td>NA</td>\n",
       "      <td>NaN</td>\n",
       "      <td>...</td>\n",
       "      <td>0.0</td>\n",
       "      <td>0.0</td>\n",
       "      <td>0.0</td>\n",
       "      <td>1.0</td>\n",
       "      <td>0.0</td>\n",
       "      <td>0.0</td>\n",
       "      <td>0.0</td>\n",
       "      <td>NaN</td>\n",
       "      <td>NaN</td>\n",
       "      <td>0.0</td>\n",
       "    </tr>\n",
       "    <tr>\n",
       "      <th>3776230</th>\n",
       "      <td>5</td>\n",
       "      <td>549518</td>\n",
       "      <td>NaN</td>\n",
       "      <td>NaN</td>\n",
       "      <td>NaN</td>\n",
       "      <td>NA</td>\n",
       "      <td>NaN</td>\n",
       "      <td>NaN</td>\n",
       "      <td>NA</td>\n",
       "      <td>NaN</td>\n",
       "      <td>...</td>\n",
       "      <td>0.0</td>\n",
       "      <td>0.0</td>\n",
       "      <td>0.0</td>\n",
       "      <td>1.0</td>\n",
       "      <td>0.0</td>\n",
       "      <td>0.0</td>\n",
       "      <td>0.0</td>\n",
       "      <td>NaN</td>\n",
       "      <td>NaN</td>\n",
       "      <td>0.0</td>\n",
       "    </tr>\n",
       "    <tr>\n",
       "      <th>3776279</th>\n",
       "      <td>5</td>\n",
       "      <td>549207</td>\n",
       "      <td>NaN</td>\n",
       "      <td>NaN</td>\n",
       "      <td>NaN</td>\n",
       "      <td>NA</td>\n",
       "      <td>NaN</td>\n",
       "      <td>NaN</td>\n",
       "      <td>NA</td>\n",
       "      <td>NaN</td>\n",
       "      <td>...</td>\n",
       "      <td>0.0</td>\n",
       "      <td>0.0</td>\n",
       "      <td>0.0</td>\n",
       "      <td>1.0</td>\n",
       "      <td>0.0</td>\n",
       "      <td>0.0</td>\n",
       "      <td>0.0</td>\n",
       "      <td>NaN</td>\n",
       "      <td>NaN</td>\n",
       "      <td>0.0</td>\n",
       "    </tr>\n",
       "    <tr>\n",
       "      <th>3776332</th>\n",
       "      <td>5</td>\n",
       "      <td>549255</td>\n",
       "      <td>NaN</td>\n",
       "      <td>NaN</td>\n",
       "      <td>NaN</td>\n",
       "      <td>NA</td>\n",
       "      <td>NaN</td>\n",
       "      <td>NaN</td>\n",
       "      <td>NA</td>\n",
       "      <td>NaN</td>\n",
       "      <td>...</td>\n",
       "      <td>0.0</td>\n",
       "      <td>0.0</td>\n",
       "      <td>0.0</td>\n",
       "      <td>1.0</td>\n",
       "      <td>0.0</td>\n",
       "      <td>0.0</td>\n",
       "      <td>0.0</td>\n",
       "      <td>NaN</td>\n",
       "      <td>NaN</td>\n",
       "      <td>0.0</td>\n",
       "    </tr>\n",
       "  </tbody>\n",
       "</table>\n",
       "<p>27734 rows × 48 columns</p>\n",
       "</div>"
      ],
      "text/plain": [
       "         fecha_dato  ncodpers ind_empleado pais_residencia sexo  age  \\\n",
       "261               0   1050741          NaN             NaN  NaN   NA   \n",
       "1029              0   1051017          NaN             NaN  NaN   NA   \n",
       "1063              0   1051064          NaN             NaN  NaN   NA   \n",
       "1154              0   1051387          NaN             NaN  NaN   NA   \n",
       "1779              0   1048660          NaN             NaN  NaN   NA   \n",
       "...             ...       ...          ...             ...  ...  ...   \n",
       "3775976           5    550081          NaN             NaN  NaN   NA   \n",
       "3776175           5    550693          NaN             NaN  NaN   NA   \n",
       "3776230           5    549518          NaN             NaN  NaN   NA   \n",
       "3776279           5    549207          NaN             NaN  NaN   NA   \n",
       "3776332           5    549255          NaN             NaN  NaN   NA   \n",
       "\n",
       "        fecha_alta  ind_nuevo antiguedad  indrel  ... ind_hip_fin_ult1  \\\n",
       "261            NaN        NaN         NA     NaN  ...              0.0   \n",
       "1029           NaN        NaN         NA     NaN  ...              0.0   \n",
       "1063           NaN        NaN         NA     NaN  ...              0.0   \n",
       "1154           NaN        NaN         NA     NaN  ...              0.0   \n",
       "1779           NaN        NaN         NA     NaN  ...              0.0   \n",
       "...            ...        ...        ...     ...  ...              ...   \n",
       "3775976        NaN        NaN         NA     NaN  ...              0.0   \n",
       "3776175        NaN        NaN         NA     NaN  ...              0.0   \n",
       "3776230        NaN        NaN         NA     NaN  ...              0.0   \n",
       "3776279        NaN        NaN         NA     NaN  ...              0.0   \n",
       "3776332        NaN        NaN         NA     NaN  ...              0.0   \n",
       "\n",
       "        ind_plan_fin_ult1 ind_pres_fin_ult1 ind_reca_fin_ult1  \\\n",
       "261                   0.0               0.0               0.0   \n",
       "1029                  0.0               0.0               0.0   \n",
       "1063                  0.0               0.0               0.0   \n",
       "1154                  0.0               0.0               0.0   \n",
       "1779                  0.0               0.0               0.0   \n",
       "...                   ...               ...               ...   \n",
       "3775976               0.0               0.0               1.0   \n",
       "3776175               0.0               0.0               1.0   \n",
       "3776230               0.0               0.0               1.0   \n",
       "3776279               0.0               0.0               1.0   \n",
       "3776332               0.0               0.0               1.0   \n",
       "\n",
       "        ind_tjcr_fin_ult1 ind_valo_fin_ult1 ind_viv_fin_ult1 ind_nomina_ult1  \\\n",
       "261                   0.0               0.0              0.0             0.0   \n",
       "1029                  0.0               0.0              0.0             0.0   \n",
       "1063                  0.0               0.0              0.0             0.0   \n",
       "1154                  0.0               0.0              0.0             0.0   \n",
       "1779                  0.0               0.0              0.0             0.0   \n",
       "...                   ...               ...              ...             ...   \n",
       "3775976               0.0               0.0              0.0             NaN   \n",
       "3776175               0.0               0.0              0.0             NaN   \n",
       "3776230               0.0               0.0              0.0             NaN   \n",
       "3776279               0.0               0.0              0.0             NaN   \n",
       "3776332               0.0               0.0              0.0             NaN   \n",
       "\n",
       "         ind_nom_pens_ult1  ind_recibo_ult1  \n",
       "261                    0.0              0.0  \n",
       "1029                   0.0              0.0  \n",
       "1063                   0.0              0.0  \n",
       "1154                   0.0              0.0  \n",
       "1779                   0.0              0.0  \n",
       "...                    ...              ...  \n",
       "3775976                NaN              0.0  \n",
       "3776175                NaN              0.0  \n",
       "3776230                NaN              0.0  \n",
       "3776279                NaN              0.0  \n",
       "3776332                NaN              0.0  \n",
       "\n",
       "[27734 rows x 48 columns]"
      ]
     },
     "execution_count": 22,
     "metadata": {},
     "output_type": "execute_result"
    }
   ],
   "source": [
    "train_test[train_test['ind_empleado'].isnull()]"
   ]
  },
  {
   "cell_type": "code",
   "execution_count": 23,
   "metadata": {
    "scrolled": true
   },
   "outputs": [
    {
     "data": {
      "text/plain": [
       "fecha_dato                   0\n",
       "ncodpers                     0\n",
       "ind_empleado             27734\n",
       "pais_residencia          27734\n",
       "sexo                     27734\n",
       "age                          0\n",
       "fecha_alta               27734\n",
       "ind_nuevo                27734\n",
       "antiguedad                   0\n",
       "indrel                   27734\n",
       "ult_fec_cli_1t           27734\n",
       "indrel_1mes              27734\n",
       "tiprel_1mes              27734\n",
       "indresi                  27734\n",
       "indext                   27734\n",
       "conyuemp                 27734\n",
       "canal_entrada            27734\n",
       "indfall                  27734\n",
       "tipodom                  27734\n",
       "cod_prov                 27734\n",
       "nomprov                  27734\n",
       "ind_actividad_cliente    27734\n",
       "renta                    27734\n",
       "segmento                 27734\n",
       "ind_ahor_fin_ult1            0\n",
       "ind_aval_fin_ult1            0\n",
       "ind_cco_fin_ult1             0\n",
       "ind_cder_fin_ult1            0\n",
       "ind_cno_fin_ult1             0\n",
       "ind_ctju_fin_ult1            0\n",
       "ind_ctma_fin_ult1            0\n",
       "ind_ctop_fin_ult1            0\n",
       "ind_ctpp_fin_ult1            0\n",
       "ind_deco_fin_ult1            0\n",
       "ind_deme_fin_ult1            0\n",
       "ind_dela_fin_ult1            0\n",
       "ind_ecue_fin_ult1            0\n",
       "ind_fond_fin_ult1            0\n",
       "ind_hip_fin_ult1             0\n",
       "ind_plan_fin_ult1            0\n",
       "ind_pres_fin_ult1            0\n",
       "ind_reca_fin_ult1            0\n",
       "ind_tjcr_fin_ult1            0\n",
       "ind_valo_fin_ult1            0\n",
       "ind_viv_fin_ult1             0\n",
       "ind_nomina_ult1          15846\n",
       "ind_nom_pens_ult1        15846\n",
       "ind_recibo_ult1              0\n",
       "dtype: int64"
      ]
     },
     "execution_count": 23,
     "metadata": {},
     "output_type": "execute_result"
    }
   ],
   "source": [
    "train_test[train_test['ind_empleado'].isnull()].isnull().sum()"
   ]
  },
  {
   "cell_type": "markdown",
   "metadata": {},
   "source": [
    "위 데이터들은 대부분의 변수들이 누락되어있고 train 데이터에만 포함된 값이므로 삭제한다"
   ]
  },
  {
   "cell_type": "code",
   "execution_count": 24,
   "metadata": {},
   "outputs": [],
   "source": [
    "train_test = train_test[train_test['ind_empleado'].notnull()]"
   ]
  },
  {
   "cell_type": "code",
   "execution_count": null,
   "metadata": {},
   "outputs": [],
   "source": []
  },
  {
   "cell_type": "code",
   "execution_count": 25,
   "metadata": {
    "scrolled": true
   },
   "outputs": [
    {
     "data": {
      "text/plain": [
       "V      7928767\n",
       "H      6620348\n",
       "NaN         75\n",
       "Name: sexo, dtype: int64"
      ]
     },
     "execution_count": 25,
     "metadata": {},
     "output_type": "execute_result"
    }
   ],
   "source": [
    "#성별\n",
    "train_test['sexo'].value_counts(dropna = False)"
   ]
  },
  {
   "cell_type": "code",
   "execution_count": 26,
   "metadata": {
    "scrolled": true
   },
   "outputs": [
    {
     "data": {
      "text/plain": [
       "5"
      ]
     },
     "execution_count": 26,
     "metadata": {},
     "output_type": "execute_result"
    }
   ],
   "source": [
    "len(test[test['sexo'].isnull()])"
   ]
  },
  {
   "cell_type": "markdown",
   "metadata": {},
   "source": [
    "성별이 누락된 데이터는 test 데이터에도 포함되어있으므로 함부로 삭제하지 않고 최대한 원형을 살려 보존한다. "
   ]
  },
  {
   "cell_type": "code",
   "execution_count": 27,
   "metadata": {
    "scrolled": true
   },
   "outputs": [],
   "source": [
    "train_test['sexo'].fillna('Unknown', inplace = True)"
   ]
  },
  {
   "cell_type": "code",
   "execution_count": null,
   "metadata": {},
   "outputs": [],
   "source": []
  },
  {
   "cell_type": "code",
   "execution_count": 28,
   "metadata": {
    "scrolled": true
   },
   "outputs": [
    {
     "data": {
      "image/png": "[encoded data removed]",
      "text/plain": [
       "<Figure size 864x288 with 1 Axes>"
      ]
     },
     "metadata": {
      "needs_background": "light"
     },
     "output_type": "display_data"
    }
   ],
   "source": [
    "#나이\n",
    "train_test['age'] = train_test['age'].astype(int)\n",
    "plt.figure(figsize = (12, 4))\n",
    "sns.histplot(train_test['age'], discrete=True)\n",
    "plt.show()"
   ]
  },
  {
   "cell_type": "code",
   "execution_count": 29,
   "metadata": {},
   "outputs": [
    {
     "data": {
      "text/plain": [
       "1237"
      ]
     },
     "execution_count": 29,
     "metadata": {},
     "output_type": "execute_result"
    }
   ],
   "source": [
    "len(test[test['age']>=100])"
   ]
  },
  {
   "cell_type": "markdown",
   "metadata": {},
   "source": [
    "age 데이터는 100세 이상도 있는 등 이상치가 존재하는 것으로 보이지만 해당 데이터는 test 데이터에도 포함되어 있으므로 함부로 삭제하지 않고 100세로 치환하여 보존한다. "
   ]
  },
  {
   "cell_type": "code",
   "execution_count": 30,
   "metadata": {
    "scrolled": true
   },
   "outputs": [],
   "source": [
    "train_test.loc[train_test['age']>100, 'age'] = 100"
   ]
  },
  {
   "cell_type": "code",
   "execution_count": null,
   "metadata": {},
   "outputs": [],
   "source": []
  },
  {
   "cell_type": "code",
   "execution_count": 31,
   "metadata": {},
   "outputs": [
    {
     "data": {
      "text/plain": [
       "2014-07-28    60810\n",
       "2014-10-03    57642\n",
       "2014-08-04    48533\n",
       "2013-10-14    43437\n",
       "2013-08-03    35427\n",
       "              ...  \n",
       "2011-04-30       11\n",
       "2015-05-31        9\n",
       "2014-05-01        7\n",
       "2009-12-25        5\n",
       "2010-07-04        4\n",
       "Name: fecha_alta, Length: 6756, dtype: int64"
      ]
     },
     "execution_count": 31,
     "metadata": {},
     "output_type": "execute_result"
    }
   ],
   "source": [
    "#고객 첫 계약 날짜\n",
    "train_test['fecha_alta'].value_counts(dropna = False)"
   ]
  },
  {
   "cell_type": "markdown",
   "metadata": {},
   "source": [
    "fecha_alta 데이터는 날짜가 일단위로 분포해있다. 월단위로 묶어서 숫자로 변환하여 알아보기 쉽게 한다. "
   ]
  },
  {
   "cell_type": "code",
   "execution_count": 32,
   "metadata": {},
   "outputs": [],
   "source": [
    "aa = pd.to_datetime(train_test['fecha_alta'])\n",
    "train_test['fecha_alta'] = (aa.max().year - aa.dt.year)*12 + (aa.max().month - aa.dt.month)\n",
    "#날짜 데이터를 숫자형식으로 간단하게 변환"
   ]
  },
  {
   "cell_type": "code",
   "execution_count": 33,
   "metadata": {},
   "outputs": [
    {
     "data": {
      "image/png": "[encoded data removed]",
      "text/plain": [
       "<Figure size 864x288 with 1 Axes>"
      ]
     },
     "metadata": {
      "needs_background": "light"
     },
     "output_type": "display_data"
    }
   ],
   "source": [
    "plt.figure(figsize = (12, 4))\n",
    "sns.histplot(train_test['fecha_alta'], discrete=True)\n",
    "plt.show()"
   ]
  },
  {
   "cell_type": "code",
   "execution_count": null,
   "metadata": {},
   "outputs": [],
   "source": []
  },
  {
   "cell_type": "code",
   "execution_count": 34,
   "metadata": {},
   "outputs": [
    {
     "data": {
      "text/plain": [
       "0.0    13712094\n",
       "1.0      837096\n",
       "Name: ind_nuevo, dtype: int64"
      ]
     },
     "execution_count": 34,
     "metadata": {},
     "output_type": "execute_result"
    }
   ],
   "source": [
    "#최근 6개월 신규 고객여부\n",
    "train_test['ind_nuevo'].value_counts(dropna = False)"
   ]
  },
  {
   "cell_type": "code",
   "execution_count": null,
   "metadata": {},
   "outputs": [],
   "source": []
  },
  {
   "cell_type": "code",
   "execution_count": 35,
   "metadata": {
    "scrolled": true
   },
   "outputs": [
    {
     "data": {
      "text/plain": [
       " 12        246752\n",
       " 21        232718\n",
       " 10        216109\n",
       " 9         200929\n",
       " 23        193779\n",
       "            ...  \n",
       " 254          413\n",
       " 255          263\n",
       " 256          179\n",
       " 257          102\n",
       "-999999        41\n",
       "Name: antiguedad, Length: 259, dtype: int64"
      ]
     },
     "execution_count": 35,
     "metadata": {},
     "output_type": "execute_result"
    }
   ],
   "source": [
    "#은행 거래 누적 기간\n",
    "train_test['antiguedad'] = train_test['antiguedad'].astype(int)\n",
    "train_test['antiguedad'].value_counts(dropna = False)"
   ]
  },
  {
   "cell_type": "code",
   "execution_count": 36,
   "metadata": {},
   "outputs": [
    {
     "data": {
      "text/plain": [
       "3"
      ]
     },
     "execution_count": 36,
     "metadata": {},
     "output_type": "execute_result"
    }
   ],
   "source": [
    "len(test[test['antiguedad']==-999999])"
   ]
  },
  {
   "cell_type": "markdown",
   "metadata": {},
   "source": [
    "-999999 값은 결측치를 의미한다. 성별과 마찬가지로, test데이터에도 누락된 값이 포함되어 있으므로 삭제하지 않는 방향으로 간다. "
   ]
  },
  {
   "cell_type": "code",
   "execution_count": 37,
   "metadata": {},
   "outputs": [
    {
     "data": {
      "image/png": "[encoded data removed]",
      "text/plain": [
       "<Figure size 864x288 with 1 Axes>"
      ]
     },
     "metadata": {
      "needs_background": "light"
     },
     "output_type": "display_data"
    }
   ],
   "source": [
    "plt.figure(figsize = (12, 4))\n",
    "sns.histplot(train_test.loc[train_test['antiguedad']>=0, 'antiguedad'], discrete=True)\n",
    "plt.show()"
   ]
  },
  {
   "cell_type": "markdown",
   "metadata": {},
   "source": [
    "antiguedad 값이 누락된 데이터는 총 41개이다. <br>\n",
    "은행 거래 누적 기간이라는 값의 특성상, 첫 계약 날짜를 나타내는 fecha_alta과 관련이 많을 것으로 예상되며,<br>\n",
    "실제로 분포된 그래프의 모양도 어느 정도 유사성을 보인다. <br>\n",
    "따라서 같은 날 가입한 다른 고객의 은행 거래 누적 기간을 참조하여 누락된 데이터를 채운다. "
   ]
  },
  {
   "cell_type": "code",
   "execution_count": 38,
   "metadata": {},
   "outputs": [],
   "source": [
    "def fillna_mode(ncodpers):\n",
    "    fecha_alta_na = train_test.loc[train_test['ncodpers']==ncodpers, 'fecha_alta'].unique()[0]\n",
    "    for i in train_test.loc[(train_test['ncodpers']==ncodpers) & (train_test['antiguedad']==-999999), 'fecha_dato'].unique():\n",
    "        antiguedad_na = train_test.loc[(train_test['fecha_alta'] == fecha_alta_na) & (train_test['fecha_dato'] == i), 'antiguedad'].value_counts().index[0]\n",
    "        train_test.loc[(train_test['ncodpers']==ncodpers) & (train_test['fecha_dato'] == i), 'antiguedad'] = antiguedad_na\n",
    "    return train_test.loc[(train_test['ncodpers'] == ncodpers), 'antiguedad']"
   ]
  },
  {
   "cell_type": "code",
   "execution_count": 39,
   "metadata": {},
   "outputs": [],
   "source": [
    "for i in train_test.loc[train_test['antiguedad']==-999999, 'ncodpers'].unique():\n",
    "    fillna_mode(i)"
   ]
  },
  {
   "cell_type": "code",
   "execution_count": null,
   "metadata": {},
   "outputs": [],
   "source": []
  },
  {
   "cell_type": "code",
   "execution_count": 40,
   "metadata": {},
   "outputs": [
    {
     "data": {
      "text/plain": [
       "1.0     14522714\n",
       "99.0       26476\n",
       "Name: indrel, dtype: int64"
      ]
     },
     "execution_count": 40,
     "metadata": {},
     "output_type": "execute_result"
    }
   ],
   "source": [
    "#First/Primary 등급 유지여부\n",
    "train_test['indrel'].value_counts(dropna = False)"
   ]
  },
  {
   "cell_type": "code",
   "execution_count": null,
   "metadata": {},
   "outputs": [],
   "source": []
  },
  {
   "cell_type": "code",
   "execution_count": 41,
   "metadata": {},
   "outputs": [
    {
     "data": {
      "text/plain": [
       "NaN           14522714\n",
       "2015-12-24         763\n",
       "2015-12-28         521\n",
       "2015-07-09         443\n",
       "2015-07-06         405\n",
       "                ...   \n",
       "2015-08-19          44\n",
       "2015-08-06          41\n",
       "2016-06-29          36\n",
       "2016-01-04          34\n",
       "2015-12-23          27\n",
       "Name: ult_fec_cli_1t, Length: 245, dtype: int64"
      ]
     },
     "execution_count": 41,
     "metadata": {},
     "output_type": "execute_result"
    }
   ],
   "source": [
    "#First/Primary 등급 해지된 날짜\n",
    "train_test['ult_fec_cli_1t'].value_counts(dropna = False)"
   ]
  },
  {
   "cell_type": "markdown",
   "metadata": {},
   "source": [
    "First/Primary 등급이 유지되고 있는 고객의 수와, 해지된 날짜가 누락된 데이터 값의 동일한 것을 확인할 수 있다. <br>\n",
    "따라서, 여기서 보이는 결측치는 단순한 측정오류가 아니라 해지가 된적이 없기에 입력된 데이터값이 없는 것이라는 점을 유추할 수 있다.<br>\n",
    "다만 대부분의 값이 의미가 없으므로 해당 칼럼은 삭제해도 무방할 것으로 보인다. "
   ]
  },
  {
   "cell_type": "code",
   "execution_count": 42,
   "metadata": {},
   "outputs": [],
   "source": [
    "train_test.drop('ult_fec_cli_1t', axis = 1, inplace = True)"
   ]
  },
  {
   "cell_type": "code",
   "execution_count": null,
   "metadata": {},
   "outputs": [],
   "source": []
  },
  {
   "cell_type": "code",
   "execution_count": 43,
   "metadata": {
    "scrolled": false
   },
   "outputs": [
    {
     "data": {
      "text/plain": [
       "1.0    8207172\n",
       "1.0    4017746\n",
       "1      2195328\n",
       "NaN     122070\n",
       "3.0       1804\n",
       "3.0       1436\n",
       "3         1137\n",
       "P          874\n",
       "2          483\n",
       "2.0        479\n",
       "2.0        355\n",
       "4.0        143\n",
       "4.0         93\n",
       "4           70\n",
       "Name: indrel_1mes, dtype: int64"
      ]
     },
     "execution_count": 43,
     "metadata": {},
     "output_type": "execute_result"
    }
   ],
   "source": [
    "#고객 등급\n",
    "train_test['indrel_1mes'].value_counts(dropna = False)"
   ]
  },
  {
   "cell_type": "markdown",
   "metadata": {},
   "source": [
    "입력된 데이터의 형식이 일정하지 않아서 분류가 지저분하게 된 것을 확인할 수 있다. 적절히 정리해주도록 한다. "
   ]
  },
  {
   "cell_type": "code",
   "execution_count": 44,
   "metadata": {},
   "outputs": [],
   "source": [
    "a = []\n",
    "for i in train_test['indrel_1mes']:\n",
    "    if i in ['1.0', '1', 1]:\n",
    "        a.append('1')\n",
    "    elif i in ['2.0', '2', 2]:\n",
    "        a.append('2')\n",
    "    elif i in ['3.0', '3', 3]:\n",
    "        a.append('3')\n",
    "    elif i in ['4.0', '4', 4]:\n",
    "        a.append('4')\n",
    "    elif i == 'P':\n",
    "        a.append('P')\n",
    "    else:\n",
    "        a.append('Unknown')\n",
    "train_test['indrel_1mes'] = a"
   ]
  },
  {
   "cell_type": "code",
   "execution_count": null,
   "metadata": {},
   "outputs": [],
   "source": []
  },
  {
   "cell_type": "code",
   "execution_count": 45,
   "metadata": {
    "scrolled": false
   },
   "outputs": [
    {
     "data": {
      "text/plain": [
       "I      7840818\n",
       "A      6580745\n",
       "NaN     122070\n",
       "P         4683\n",
       "R          870\n",
       "N            4\n",
       "Name: tiprel_1mes, dtype: int64"
      ]
     },
     "execution_count": 45,
     "metadata": {},
     "output_type": "execute_result"
    }
   ],
   "source": [
    "#고객 상태\n",
    "train_test['tiprel_1mes'].value_counts(dropna = False)"
   ]
  },
  {
   "cell_type": "code",
   "execution_count": 46,
   "metadata": {},
   "outputs": [],
   "source": [
    "train_test['tiprel_1mes'].fillna('Unknown', inplace = True)"
   ]
  },
  {
   "cell_type": "code",
   "execution_count": null,
   "metadata": {},
   "outputs": [],
   "source": []
  },
  {
   "cell_type": "code",
   "execution_count": 47,
   "metadata": {
    "scrolled": false
   },
   "outputs": [
    {
     "data": {
      "text/plain": [
       "S    14479331\n",
       "N       69859\n",
       "Name: indresi, dtype: int64"
      ]
     },
     "execution_count": 47,
     "metadata": {},
     "output_type": "execute_result"
    }
   ],
   "source": [
    "#은행이 속한 국가에 거주 여부\n",
    "train_test['indresi'].value_counts(dropna = False)"
   ]
  },
  {
   "cell_type": "code",
   "execution_count": null,
   "metadata": {},
   "outputs": [],
   "source": []
  },
  {
   "cell_type": "code",
   "execution_count": 48,
   "metadata": {
    "scrolled": false
   },
   "outputs": [
    {
     "data": {
      "text/plain": [
       "N    13858387\n",
       "S      690803\n",
       "Name: indext, dtype: int64"
      ]
     },
     "execution_count": 48,
     "metadata": {},
     "output_type": "execute_result"
    }
   ],
   "source": [
    "#외국인 여부\n",
    "train_test['indext'].value_counts(dropna = False)"
   ]
  },
  {
   "cell_type": "code",
   "execution_count": null,
   "metadata": {},
   "outputs": [],
   "source": []
  },
  {
   "cell_type": "code",
   "execution_count": 49,
   "metadata": {
    "scrolled": false
   },
   "outputs": [
    {
     "data": {
      "text/plain": [
       "NaN    14547278\n",
       "N          1894\n",
       "S            18\n",
       "Name: conyuemp, dtype: int64"
      ]
     },
     "execution_count": 49,
     "metadata": {},
     "output_type": "execute_result"
    }
   ],
   "source": [
    "#직원 배우자 여부\n",
    "train_test['conyuemp'].value_counts(dropna = False)"
   ]
  },
  {
   "cell_type": "code",
   "execution_count": 50,
   "metadata": {},
   "outputs": [
    {
     "data": {
      "text/plain": [
       "NaN    929511\n",
       "N         103\n",
       "S           1\n",
       "Name: conyuemp, dtype: int64"
      ]
     },
     "execution_count": 50,
     "metadata": {},
     "output_type": "execute_result"
    }
   ],
   "source": [
    "test['conyuemp'].value_counts(dropna = False)"
   ]
  },
  {
   "cell_type": "markdown",
   "metadata": {},
   "source": [
    "결측치가 대부분이라서 의미가 없는 컬럼으로 보이지만 우선은 test 데이터에서도 모든 항목이 포함되어 있으므로 최대한 원형을 유지해본다. "
   ]
  },
  {
   "cell_type": "code",
   "execution_count": 51,
   "metadata": {
    "scrolled": true
   },
   "outputs": [],
   "source": [
    "train_test['conyuemp'].fillna('Unknown', inplace = True)"
   ]
  },
  {
   "cell_type": "code",
   "execution_count": null,
   "metadata": {},
   "outputs": [],
   "source": []
  },
  {
   "cell_type": "code",
   "execution_count": 52,
   "metadata": {
    "scrolled": false
   },
   "outputs": [
    {
     "data": {
      "text/plain": [
       "KHE    4306935\n",
       "KAT    3474042\n",
       "KFC    3299057\n",
       "KHQ     666008\n",
       "KFA     435322\n",
       "        ...   \n",
       "KGN         18\n",
       "KDB         18\n",
       "KDL         12\n",
       "025         12\n",
       "KHR          2\n",
       "Name: canal_entrada, Length: 163, dtype: int64"
      ]
     },
     "execution_count": 52,
     "metadata": {},
     "output_type": "execute_result"
    }
   ],
   "source": [
    "#고객 유입 경로\n",
    "train_test['canal_entrada'].value_counts(dropna = False)"
   ]
  },
  {
   "cell_type": "code",
   "execution_count": 53,
   "metadata": {
    "scrolled": true
   },
   "outputs": [
    {
     "data": {
      "text/plain": [
       "160473"
      ]
     },
     "execution_count": 53,
     "metadata": {},
     "output_type": "execute_result"
    }
   ],
   "source": [
    "len(train_test[train_test['canal_entrada'].isnull()])"
   ]
  },
  {
   "cell_type": "markdown",
   "metadata": {},
   "source": [
    "고객 유입 경로 데이터는 분류가 163종으로 매우 다양함을 확인할 수 있다. 또한 결측치도 일정량 포함되어 있다. 꽤 중요한 의미를 가질 수 있을 것으로 보이니 최대한 원형을 유지한다. "
   ]
  },
  {
   "cell_type": "code",
   "execution_count": 54,
   "metadata": {
    "scrolled": false
   },
   "outputs": [],
   "source": [
    "train_test['canal_entrada'].fillna('Unknown', inplace = True)"
   ]
  },
  {
   "cell_type": "code",
   "execution_count": 55,
   "metadata": {},
   "outputs": [
    {
     "data": {
      "image/png": "[encoded data removed]",
      "text/plain": [
       "<Figure size 576x576 with 1 Axes>"
      ]
     },
     "metadata": {},
     "output_type": "display_data"
    }
   ],
   "source": [
    "plt.figure(figsize = (8, 8))\n",
    "ratio = list(train_test['canal_entrada'].value_counts(dropna = False))\n",
    "labels = train_test['canal_entrada'].value_counts(dropna = False).index\n",
    "explode = [0.1]*len(list(train_test['canal_entrada'].value_counts(dropna = False)))\n",
    "plt.pie(ratio, labels=labels, autopct='%.1f%%', startangle=90, counterclock=False, explode=explode)\n",
    "plt.show()"
   ]
  },
  {
   "cell_type": "code",
   "execution_count": null,
   "metadata": {},
   "outputs": [],
   "source": []
  },
  {
   "cell_type": "code",
   "execution_count": 56,
   "metadata": {
    "scrolled": true
   },
   "outputs": [
    {
     "data": {
      "text/plain": [
       "N    14512028\n",
       "S       37162\n",
       "Name: indfall, dtype: int64"
      ]
     },
     "execution_count": 56,
     "metadata": {},
     "output_type": "execute_result"
    }
   ],
   "source": [
    "#고객 사망여부\n",
    "train_test['indfall'].value_counts(dropna = False)"
   ]
  },
  {
   "cell_type": "code",
   "execution_count": 57,
   "metadata": {},
   "outputs": [
    {
     "data": {
      "text/plain": [
       "N    927215\n",
       "S      2400\n",
       "Name: indfall, dtype: int64"
      ]
     },
     "execution_count": 57,
     "metadata": {},
     "output_type": "execute_result"
    }
   ],
   "source": [
    "test['indfall'].value_counts(dropna = False)"
   ]
  },
  {
   "cell_type": "markdown",
   "metadata": {},
   "source": [
    "고객 사망여부가 S인 경우에는 신규 상품 구매가 일어날 수 없으니 삭제해야 할 것 같지만 일단 test 데이터에도 포함되어 있으니 남겨두도록 한다. "
   ]
  },
  {
   "cell_type": "code",
   "execution_count": null,
   "metadata": {},
   "outputs": [],
   "source": []
  },
  {
   "cell_type": "code",
   "execution_count": 58,
   "metadata": {
    "scrolled": true
   },
   "outputs": [
    {
     "data": {
      "text/plain": [
       "1.0    14549189\n",
       "NaN           1\n",
       "Name: tipodom, dtype: int64"
      ]
     },
     "execution_count": 58,
     "metadata": {},
     "output_type": "execute_result"
    }
   ],
   "source": [
    "#주소 타입\n",
    "train_test['tipodom'].value_counts(dropna = False)"
   ]
  },
  {
   "cell_type": "code",
   "execution_count": 59,
   "metadata": {},
   "outputs": [
    {
     "data": {
      "text/html": [
       "<div>\n",
       "<style scoped>\n",
       "    .dataframe tbody tr th:only-of-type {\n",
       "        vertical-align: middle;\n",
       "    }\n",
       "\n",
       "    .dataframe tbody tr th {\n",
       "        vertical-align: top;\n",
       "    }\n",
       "\n",
       "    .dataframe thead th {\n",
       "        text-align: right;\n",
       "    }\n",
       "</style>\n",
       "<table border=\"1\" class=\"dataframe\">\n",
       "  <thead>\n",
       "    <tr style=\"text-align: right;\">\n",
       "      <th></th>\n",
       "      <th>fecha_dato</th>\n",
       "      <th>ncodpers</th>\n",
       "      <th>ind_empleado</th>\n",
       "      <th>pais_residencia</th>\n",
       "      <th>sexo</th>\n",
       "      <th>age</th>\n",
       "      <th>fecha_alta</th>\n",
       "      <th>ind_nuevo</th>\n",
       "      <th>antiguedad</th>\n",
       "      <th>indrel</th>\n",
       "      <th>...</th>\n",
       "      <th>ind_hip_fin_ult1</th>\n",
       "      <th>ind_plan_fin_ult1</th>\n",
       "      <th>ind_pres_fin_ult1</th>\n",
       "      <th>ind_reca_fin_ult1</th>\n",
       "      <th>ind_tjcr_fin_ult1</th>\n",
       "      <th>ind_valo_fin_ult1</th>\n",
       "      <th>ind_viv_fin_ult1</th>\n",
       "      <th>ind_nomina_ult1</th>\n",
       "      <th>ind_nom_pens_ult1</th>\n",
       "      <th>ind_recibo_ult1</th>\n",
       "    </tr>\n",
       "  </thead>\n",
       "  <tbody>\n",
       "    <tr>\n",
       "      <th>7484041</th>\n",
       "      <td>10</td>\n",
       "      <td>41449</td>\n",
       "      <td>N</td>\n",
       "      <td>ES</td>\n",
       "      <td>V</td>\n",
       "      <td>58</td>\n",
       "      <td>214</td>\n",
       "      <td>1.0</td>\n",
       "      <td>0</td>\n",
       "      <td>1.0</td>\n",
       "      <td>...</td>\n",
       "      <td>0.0</td>\n",
       "      <td>0.0</td>\n",
       "      <td>0.0</td>\n",
       "      <td>1.0</td>\n",
       "      <td>0.0</td>\n",
       "      <td>0.0</td>\n",
       "      <td>0.0</td>\n",
       "      <td>0.0</td>\n",
       "      <td>0.0</td>\n",
       "      <td>0.0</td>\n",
       "    </tr>\n",
       "  </tbody>\n",
       "</table>\n",
       "<p>1 rows × 47 columns</p>\n",
       "</div>"
      ],
      "text/plain": [
       "         fecha_dato  ncodpers ind_empleado pais_residencia sexo  age  \\\n",
       "7484041          10     41449            N              ES    V   58   \n",
       "\n",
       "         fecha_alta  ind_nuevo  antiguedad  indrel  ... ind_hip_fin_ult1  \\\n",
       "7484041         214        1.0           0     1.0  ...              0.0   \n",
       "\n",
       "        ind_plan_fin_ult1 ind_pres_fin_ult1 ind_reca_fin_ult1  \\\n",
       "7484041               0.0               0.0               1.0   \n",
       "\n",
       "        ind_tjcr_fin_ult1 ind_valo_fin_ult1 ind_viv_fin_ult1  ind_nomina_ult1  \\\n",
       "7484041               0.0               0.0              0.0              0.0   \n",
       "\n",
       "         ind_nom_pens_ult1 ind_recibo_ult1  \n",
       "7484041                0.0             0.0  \n",
       "\n",
       "[1 rows x 47 columns]"
      ]
     },
     "execution_count": 59,
     "metadata": {},
     "output_type": "execute_result"
    }
   ],
   "source": [
    "train_test[train_test['tipodom'].isnull()]"
   ]
  },
  {
   "cell_type": "markdown",
   "metadata": {},
   "source": [
    "모든 값이 1이고 결측된 데이터도 하나뿐이므로 의미가 없는 칼럼이니 삭제한다. "
   ]
  },
  {
   "cell_type": "code",
   "execution_count": 60,
   "metadata": {},
   "outputs": [],
   "source": [
    "train_test.drop('tipodom', axis = 1, inplace = True)"
   ]
  },
  {
   "cell_type": "code",
   "execution_count": null,
   "metadata": {},
   "outputs": [],
   "source": []
  },
  {
   "cell_type": "code",
   "execution_count": 61,
   "metadata": {
    "scrolled": true
   },
   "outputs": [
    {
     "data": {
      "text/plain": [
       "28.0    4707850\n",
       "8.0     1363798\n",
       "46.0     730300\n",
       "41.0     645656\n",
       "15.0     458037\n",
       "30.0     424511\n",
       "29.0     391569\n",
       "50.0     365703\n",
       "3.0      335544\n",
       "11.0     314479\n",
       "36.0     298987\n",
       "33.0     284049\n",
       "47.0     254277\n",
       "35.0     252032\n",
       "6.0      205932\n",
       "48.0     198382\n",
       "45.0     195725\n",
       "18.0     190954\n",
       "37.0     175309\n",
       "39.0     166530\n",
       "14.0     154510\n",
       "10.0     138510\n",
       "7.0      134063\n",
       "21.0     130301\n",
       "13.0     127465\n",
       "2.0      121908\n",
       "12.0     111440\n",
       "43.0     107746\n",
       "9.0      103833\n",
       "17.0      96842\n",
       "31.0      94628\n",
       "26.0      91008\n",
       "27.0      90618\n",
       "32.0      89614\n",
       "24.0      88720\n",
       "25.0      84489\n",
       "20.0      76436\n",
       "38.0      76065\n",
       "NaN       69853\n",
       "19.0      69296\n",
       "23.0      68859\n",
       "4.0       64598\n",
       "16.0      61098\n",
       "49.0      54357\n",
       "34.0      52593\n",
       "40.0      45222\n",
       "22.0      42970\n",
       "5.0       41411\n",
       "1.0       40295\n",
       "44.0      24063\n",
       "42.0      18921\n",
       "52.0      10103\n",
       "51.0       7731\n",
       "Name: cod_prov, dtype: int64"
      ]
     },
     "execution_count": 61,
     "metadata": {},
     "output_type": "execute_result"
    }
   ],
   "source": [
    "#지역 코드\n",
    "train_test['cod_prov'].value_counts(dropna = False)"
   ]
  },
  {
   "cell_type": "code",
   "execution_count": 62,
   "metadata": {
    "scrolled": true
   },
   "outputs": [
    {
     "data": {
      "text/plain": [
       "MADRID                    4707850\n",
       "BARCELONA                 1363798\n",
       "VALENCIA                   730300\n",
       "SEVILLA                    645656\n",
       "CORUÑA, A                  458037\n",
       "MURCIA                     424511\n",
       "MALAGA                     391569\n",
       "ZARAGOZA                   365703\n",
       "ALICANTE                   335544\n",
       "CADIZ                      314479\n",
       "PONTEVEDRA                 298987\n",
       "ASTURIAS                   284049\n",
       "VALLADOLID                 254277\n",
       "PALMAS, LAS                252032\n",
       "BADAJOZ                    205932\n",
       "BIZKAIA                    198382\n",
       "TOLEDO                     195725\n",
       "GRANADA                    190954\n",
       "SALAMANCA                  175309\n",
       "CANTABRIA                  166530\n",
       "CORDOBA                    154510\n",
       "CACERES                    138510\n",
       "BALEARS, ILLES             134063\n",
       "HUELVA                     130301\n",
       "CIUDAD REAL                127465\n",
       "ALBACETE                   121908\n",
       "CASTELLON                  111440\n",
       "TARRAGONA                  107746\n",
       "BURGOS                     103833\n",
       "GIRONA                      96842\n",
       "NAVARRA                     94628\n",
       "RIOJA, LA                   91008\n",
       "LUGO                        90618\n",
       "OURENSE                     89614\n",
       "LEON                        88720\n",
       "LERIDA                      84489\n",
       "GIPUZKOA                    76436\n",
       "SANTA CRUZ DE TENERIFE      76065\n",
       "NaN                         69853\n",
       "GUADALAJARA                 69296\n",
       "JAEN                        68859\n",
       "ALMERIA                     64598\n",
       "CUENCA                      61098\n",
       "ZAMORA                      54357\n",
       "PALENCIA                    52593\n",
       "SEGOVIA                     45222\n",
       "HUESCA                      42970\n",
       "AVILA                       41411\n",
       "ALAVA                       40295\n",
       "TERUEL                      24063\n",
       "SORIA                       18921\n",
       "MELILLA                     10103\n",
       "CEUTA                        7731\n",
       "Name: nomprov, dtype: int64"
      ]
     },
     "execution_count": 62,
     "metadata": {},
     "output_type": "execute_result"
    }
   ],
   "source": [
    "#지역명\n",
    "train_test['nomprov'].value_counts(dropna = False)"
   ]
  },
  {
   "cell_type": "markdown",
   "metadata": {},
   "source": [
    "지역 코드와 지역명은 같은 값을 공유하고 있으므로 지역 코드 컬럼은 삭제한다. 또한 분류가 다양하고 분포가 고르게 되어있는 편이므로 유용한 값으로 생각된다. "
   ]
  },
  {
   "cell_type": "code",
   "execution_count": 63,
   "metadata": {},
   "outputs": [],
   "source": [
    "train_test.drop('cod_prov', axis = 1, inplace = True)"
   ]
  },
  {
   "cell_type": "code",
   "execution_count": 64,
   "metadata": {
    "scrolled": true
   },
   "outputs": [],
   "source": [
    "train_test['nomprov'].fillna('Unknown', inplace = True)"
   ]
  },
  {
   "cell_type": "code",
   "execution_count": 65,
   "metadata": {},
   "outputs": [
    {
     "data": {
      "image/png": "[encoded data removed]",
      "text/plain": [
       "<Figure size 576x576 with 1 Axes>"
      ]
     },
     "metadata": {},
     "output_type": "display_data"
    }
   ],
   "source": [
    "plt.figure(figsize = (8, 8))\n",
    "ratio = list(train_test['nomprov'].value_counts(dropna = False))\n",
    "labels = train_test['nomprov'].value_counts(dropna = False).index\n",
    "explode = [0.1]*len(list(train_test['nomprov'].value_counts(dropna = False)))\n",
    "plt.pie(ratio, labels=labels, autopct='%.1f%%', startangle=90, counterclock=False, explode=explode)\n",
    "plt.show()"
   ]
  },
  {
   "cell_type": "code",
   "execution_count": null,
   "metadata": {},
   "outputs": [],
   "source": []
  },
  {
   "cell_type": "code",
   "execution_count": 66,
   "metadata": {
    "scrolled": true
   },
   "outputs": [
    {
     "data": {
      "text/plain": [
       "0.0    7918666\n",
       "1.0    6630524\n",
       "Name: ind_actividad_cliente, dtype: int64"
      ]
     },
     "execution_count": 66,
     "metadata": {},
     "output_type": "execute_result"
    }
   ],
   "source": [
    "#활동적 고객 여부\n",
    "train_test['ind_actividad_cliente'].value_counts(dropna = False)"
   ]
  },
  {
   "cell_type": "code",
   "execution_count": null,
   "metadata": {},
   "outputs": [],
   "source": []
  },
  {
   "cell_type": "code",
   "execution_count": 67,
   "metadata": {},
   "outputs": [
    {
     "data": {
      "text/plain": [
       "NaN            2766641\n",
       "         NA     227965\n",
       "451931.22         5582\n",
       "463625.16         1743\n",
       "181042.2          1493\n",
       "                ...   \n",
       "   87437.94          1\n",
       "   56620.53          1\n",
       "  106367.04          1\n",
       "  265445.34          1\n",
       "   59962.56          1\n",
       "Name: renta, Length: 1037398, dtype: int64"
      ]
     },
     "execution_count": 67,
     "metadata": {},
     "output_type": "execute_result"
    }
   ],
   "source": [
    "#가구 총 수입\n",
    "train_test['renta'].value_counts(dropna = False)"
   ]
  },
  {
   "cell_type": "markdown",
   "metadata": {},
   "source": [
    "결측치가 두 가지 형태로 존재하는 것을 확인할 수 있다. <br>\n",
    "결측치의 비율이 전체 데이터의 약 20%에 달할 정도로 꽤 많은 양을 차지하고 있으므로 이를 보완할 방법을 고려해야 한다. "
   ]
  },
  {
   "cell_type": "code",
   "execution_count": 68,
   "metadata": {},
   "outputs": [],
   "source": [
    "train_test[\"renta\"]= pd.to_numeric(train_test[\"renta\"], errors=\"coerce\")"
   ]
  },
  {
   "cell_type": "code",
   "execution_count": 69,
   "metadata": {},
   "outputs": [
    {
     "data": {
      "image/png": "[encoded data removed]",
      "text/plain": [
       "<Figure size 864x288 with 1 Axes>"
      ]
     },
     "metadata": {
      "needs_background": "light"
     },
     "output_type": "display_data"
    }
   ],
   "source": [
    "plt.figure(figsize = (12, 4))\n",
    "sns.histplot(train_test['renta'])\n",
    "plt.show()"
   ]
  },
  {
   "cell_type": "markdown",
   "metadata": {},
   "source": [
    "일부 극단적으로 큰 값이 존재하는 것으로 보인다. <br>\n",
    "전체적인 데이터 분포의 가시성을 높이기 위해 일부 데이터만 잘라서 확인한다. "
   ]
  },
  {
   "cell_type": "code",
   "execution_count": 70,
   "metadata": {},
   "outputs": [
    {
     "data": {
      "image/png": "[encoded data removed]",
      "text/plain": [
       "<Figure size 864x288 with 1 Axes>"
      ]
     },
     "metadata": {
      "needs_background": "light"
     },
     "output_type": "display_data"
    }
   ],
   "source": [
    "plt.figure(figsize = (12, 4))\n",
    "sns.histplot(train_test.loc[(train_test['renta']<=1000000), 'renta'])\n",
    "plt.show()"
   ]
  },
  {
   "cell_type": "code",
   "execution_count": 71,
   "metadata": {},
   "outputs": [
    {
     "data": {
      "image/png": "[encoded data removed]",
      "text/plain": [
       "<Figure size 864x288 with 1 Axes>"
      ]
     },
     "metadata": {
      "needs_background": "light"
     },
     "output_type": "display_data"
    }
   ],
   "source": [
    "plt.figure(figsize = (12, 4))\n",
    "sns.histplot(train_test.loc[(train_test['renta']>1000000), 'renta'])\n",
    "plt.show()"
   ]
  },
  {
   "cell_type": "code",
   "execution_count": 72,
   "metadata": {},
   "outputs": [
    {
     "data": {
      "text/plain": [
       "28608"
      ]
     },
     "execution_count": 72,
     "metadata": {},
     "output_type": "execute_result"
    }
   ],
   "source": [
    "len(train_test.loc[(train_test['renta']>1000000), 'renta'])"
   ]
  },
  {
   "cell_type": "markdown",
   "metadata": {},
   "source": [
    "대부분의 데이터가 0에서 1000000 사이에 분포하고 있지만 일부 데이터는 매우 큰 값을 가지고 있다. <br>\n",
    "가구 총 수입이라는 항목의 특성상 매우 큰 값이 나오더라도 정상일 수 있지만, <br>\n",
    "1000000을 초과하는 데이터의 양은 많지 않은 편이기 때문에 분석의 용이함을 위해서 1000000으로 치환한다. <br>\n",
    "또한 결측치는 지역별 중앙값으로 채워준다. "
   ]
  },
  {
   "cell_type": "code",
   "execution_count": 73,
   "metadata": {},
   "outputs": [],
   "source": [
    "grouped = train_test.groupby(\"nomprov\")[\"renta\"].median()"
   ]
  },
  {
   "cell_type": "code",
   "execution_count": 74,
   "metadata": {},
   "outputs": [],
   "source": [
    "for i in train_test['nomprov'].unique():\n",
    "    train_test.loc[train_test['nomprov']==i, 'renta'] = train_test.loc[train_test['nomprov']==i, 'renta'].fillna(grouped[i])"
   ]
  },
  {
   "cell_type": "code",
   "execution_count": 75,
   "metadata": {},
   "outputs": [],
   "source": [
    "train_test.loc[train_test['renta']>1000000, 'renta'] = 1000000"
   ]
  },
  {
   "cell_type": "code",
   "execution_count": null,
   "metadata": {},
   "outputs": [],
   "source": []
  },
  {
   "cell_type": "code",
   "execution_count": 76,
   "metadata": {
    "scrolled": true
   },
   "outputs": [
    {
     "data": {
      "text/plain": [
       "02 - PARTICULARES     8505598\n",
       "03 - UNIVERSITARIO    5281607\n",
       "01 - TOP               598103\n",
       "NaN                    163882\n",
       "Name: segmento, dtype: int64"
      ]
     },
     "execution_count": 76,
     "metadata": {},
     "output_type": "execute_result"
    }
   ],
   "source": [
    "#고객 분류\n",
    "train_test['segmento'].value_counts(dropna = False)"
   ]
  },
  {
   "cell_type": "code",
   "execution_count": 77,
   "metadata": {
    "scrolled": false
   },
   "outputs": [],
   "source": [
    "train_test['segmento'].fillna('Unknown', inplace = True)"
   ]
  },
  {
   "cell_type": "code",
   "execution_count": 78,
   "metadata": {
    "scrolled": false
   },
   "outputs": [
    {
     "data": {
      "image/png": "[encoded data removed]",
      "text/plain": [
       "<Figure size 576x576 with 1 Axes>"
      ]
     },
     "metadata": {},
     "output_type": "display_data"
    }
   ],
   "source": [
    "plt.figure(figsize = (8, 8))\n",
    "ratio = list(train_test['segmento'].value_counts(dropna = False))\n",
    "labels = train_test['segmento'].value_counts(dropna = False).index\n",
    "explode = [0.1]*len(list(train_test['segmento'].value_counts(dropna = False)))\n",
    "plt.pie(ratio, labels=labels, autopct='%.1f%%', startangle=90, counterclock=False, explode=explode)\n",
    "plt.show()"
   ]
  },
  {
   "cell_type": "code",
   "execution_count": null,
   "metadata": {},
   "outputs": [],
   "source": []
  },
  {
   "cell_type": "code",
   "execution_count": 79,
   "metadata": {},
   "outputs": [
    {
     "data": {
      "text/plain": [
       "ind_ahor_fin_ult1    929615\n",
       "ind_aval_fin_ult1    929615\n",
       "ind_cco_fin_ult1     929615\n",
       "ind_cder_fin_ult1    929615\n",
       "ind_cno_fin_ult1     929615\n",
       "ind_ctju_fin_ult1    929615\n",
       "ind_ctma_fin_ult1    929615\n",
       "ind_ctop_fin_ult1    929615\n",
       "ind_ctpp_fin_ult1    929615\n",
       "ind_deco_fin_ult1    929615\n",
       "ind_deme_fin_ult1    929615\n",
       "ind_dela_fin_ult1    929615\n",
       "ind_ecue_fin_ult1    929615\n",
       "ind_fond_fin_ult1    929615\n",
       "ind_hip_fin_ult1     929615\n",
       "ind_plan_fin_ult1    929615\n",
       "ind_pres_fin_ult1    929615\n",
       "ind_reca_fin_ult1    929615\n",
       "ind_tjcr_fin_ult1    929615\n",
       "ind_valo_fin_ult1    929615\n",
       "ind_viv_fin_ult1     929615\n",
       "ind_nomina_ult1      929832\n",
       "ind_nom_pens_ult1    929832\n",
       "ind_recibo_ult1      929615\n",
       "dtype: int64"
      ]
     },
     "execution_count": 79,
     "metadata": {},
     "output_type": "execute_result"
    }
   ],
   "source": [
    "train_test[y_col].isnull().sum()"
   ]
  },
  {
   "cell_type": "markdown",
   "metadata": {},
   "source": [
    "상품 보유현황 컬럼의 경우 test 데이터에 포함된 값들은 모두 공란이므로 동일한 갯수의 결측치가 있다. <br>\n",
    "다만 ind_nomina_ult1와 ind_nom_pens_ult1는 train 데이터에도 결측치가 포함되어있어서 갯수가 다름을 확인할 수 있다. <br>\n",
    "위 결측값은 0으로 채워주도록 한다. "
   ]
  },
  {
   "cell_type": "code",
   "execution_count": 80,
   "metadata": {},
   "outputs": [],
   "source": [
    "train_test.loc[train_test['ind_ahor_fin_ult1'].notnull() & train_test['ind_nomina_ult1'].isnull(), \n",
    "               ['ind_nomina_ult1', 'ind_nom_pens_ult1']] = 0"
   ]
  },
  {
   "cell_type": "code",
   "execution_count": 81,
   "metadata": {},
   "outputs": [
    {
     "data": {
      "text/plain": [
       "fecha_dato                    0\n",
       "ncodpers                      0\n",
       "ind_empleado                  0\n",
       "pais_residencia               0\n",
       "sexo                          0\n",
       "age                           0\n",
       "fecha_alta                    0\n",
       "ind_nuevo                     0\n",
       "antiguedad                    0\n",
       "indrel                        0\n",
       "indrel_1mes                   0\n",
       "tiprel_1mes                   0\n",
       "indresi                       0\n",
       "indext                        0\n",
       "conyuemp                      0\n",
       "canal_entrada                 0\n",
       "indfall                       0\n",
       "nomprov                       0\n",
       "ind_actividad_cliente         0\n",
       "renta                         0\n",
       "segmento                      0\n",
       "ind_ahor_fin_ult1        929615\n",
       "ind_aval_fin_ult1        929615\n",
       "ind_cco_fin_ult1         929615\n",
       "ind_cder_fin_ult1        929615\n",
       "ind_cno_fin_ult1         929615\n",
       "ind_ctju_fin_ult1        929615\n",
       "ind_ctma_fin_ult1        929615\n",
       "ind_ctop_fin_ult1        929615\n",
       "ind_ctpp_fin_ult1        929615\n",
       "ind_deco_fin_ult1        929615\n",
       "ind_deme_fin_ult1        929615\n",
       "ind_dela_fin_ult1        929615\n",
       "ind_ecue_fin_ult1        929615\n",
       "ind_fond_fin_ult1        929615\n",
       "ind_hip_fin_ult1         929615\n",
       "ind_plan_fin_ult1        929615\n",
       "ind_pres_fin_ult1        929615\n",
       "ind_reca_fin_ult1        929615\n",
       "ind_tjcr_fin_ult1        929615\n",
       "ind_valo_fin_ult1        929615\n",
       "ind_viv_fin_ult1         929615\n",
       "ind_nomina_ult1          929615\n",
       "ind_nom_pens_ult1        929615\n",
       "ind_recibo_ult1          929615\n",
       "dtype: int64"
      ]
     },
     "execution_count": 81,
     "metadata": {},
     "output_type": "execute_result"
    }
   ],
   "source": [
    "train_test.isnull().sum()"
   ]
  },
  {
   "cell_type": "code",
   "execution_count": 82,
   "metadata": {},
   "outputs": [],
   "source": [
    "train_test.reset_index(inplace = True, drop = True)"
   ]
  },
  {
   "cell_type": "code",
   "execution_count": 83,
   "metadata": {},
   "outputs": [],
   "source": [
    "train_test.to_csv('../data/santander/train_test_EDA.csv', index=False)"
   ]
  },
  {
   "cell_type": "code",
   "execution_count": null,
   "metadata": {},
   "outputs": [],
   "source": []
  }
 ],
 "metadata": {
  "kernelspec": {
   "display_name": "Python 3",
   "language": "python",
   "name": "python3"
  },
  "language_info": {
   "codemirror_mode": {
    "name": "ipython",
    "version": 3
   },
   "file_extension": ".py",
   "mimetype": "text/x-python",
   "name": "python",
   "nbconvert_exporter": "python",
   "pygments_lexer": "ipython3",
   "version": "3.8.5"
  }
 },
 "nbformat": 4,
 "nbformat_minor": 4
}
